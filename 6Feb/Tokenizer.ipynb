{
 "cells": [
  {
   "cell_type": "code",
   "execution_count": 1,
   "metadata": {
    "collapsed": false
   },
   "outputs": [],
   "source": [
    "import json\n",
    "import nltk\n",
    "import requests \n",
    "from nltk.tokenize import word_tokenize\n",
    "from nltk import word_tokenize, pos_tag, ne_chunk\n",
    "import ssl\n",
    "import itertools\n",
    "from string import ascii_lowercase\n",
    "import re"
   ]
  },
  {
   "cell_type": "markdown",
   "metadata": {},
   "source": [
    "#### Here is just an example of tokenizer"
   ]
  },
  {
   "cell_type": "code",
   "execution_count": 14,
   "metadata": {
    "collapsed": false
   },
   "outputs": [
    {
     "name": "stdout",
     "output_type": "stream",
     "text": [
      "['I', 'need', 'to', 'determine', 'if', 'there', 'is', 'mortars', 'in', 'a', 'known', 'ISIS', 'training', 'camp', 'near', 'Raqqa', ',', 'Syria']\n"
     ]
    }
   ],
   "source": [
    "needDetailsSample = \"I need to determine if there is mortars in a known ISIS training camp near Raqqa, Syria\"\n",
    "tokens = word_tokenize(needDetailsSample)\n",
    "print(tokens)"
   ]
  },
  {
   "cell_type": "markdown",
   "metadata": {},
   "source": [
    "#### Sample for location stuff"
   ]
  },
  {
   "cell_type": "code",
   "execution_count": 16,
   "metadata": {
    "collapsed": true
   },
   "outputs": [],
   "source": [
    "locs = [('Elephant Carcasses', 'IN', 'Nairobi'),\n",
    "...         ('ISIS Fighters', 'IN', 'Raqqa'),\n",
    "...         ('Syrian militants', 'IN', 'Mosul'),\n",
    "...         ('WMD', 'IN', 'Pyongyang'),\n",
    "...         ('Terrorists', 'IN', 'Raqqa')]"
   ]
  },
  {
   "cell_type": "code",
   "execution_count": 17,
   "metadata": {
    "collapsed": false
   },
   "outputs": [
    {
     "data": {
      "text/plain": [
       "[('Elephant Carcasses', 'IN', 'Nairobi'),\n",
       " ('ISIS Fighters', 'IN', 'Raqqa'),\n",
       " ('Syrian militants', 'IN', 'Mosul'),\n",
       " ('WMD', 'IN', 'Pyongyang'),\n",
       " ('Terrorists', 'IN', 'Raqqa')]"
      ]
     },
     "execution_count": 17,
     "metadata": {},
     "output_type": "execute_result"
    }
   ],
   "source": [
    "locs"
   ]
  },
  {
   "cell_type": "code",
   "execution_count": 18,
   "metadata": {
    "collapsed": false
   },
   "outputs": [
    {
     "name": "stdout",
     "output_type": "stream",
     "text": [
      "['ISIS Fighters', 'Terrorists']\n"
     ]
    }
   ],
   "source": [
    "query = [e1 for (e1, rel, e2) in locs if e2=='Raqqa']\n",
    "print(query)"
   ]
  },
  {
   "cell_type": "markdown",
   "metadata": {},
   "source": [
    "#### Find out the grammar"
   ]
  },
  {
   "cell_type": "code",
   "execution_count": 19,
   "metadata": {
    "collapsed": false
   },
   "outputs": [
    {
     "data": {
      "text/plain": [
       "[('I', 'PRP'),\n",
       " ('need', 'VBP'),\n",
       " ('to', 'TO'),\n",
       " ('determine', 'VB'),\n",
       " ('if', 'IN'),\n",
       " ('there', 'EX'),\n",
       " ('is', 'VBZ'),\n",
       " ('mortars', 'NNS'),\n",
       " ('in', 'IN'),\n",
       " ('a', 'DT'),\n",
       " ('known', 'JJ'),\n",
       " ('ISIS', 'NNP'),\n",
       " ('training', 'NN'),\n",
       " ('camp', 'NN'),\n",
       " ('near', 'IN'),\n",
       " ('Raqqa', 'NNP'),\n",
       " (',', ','),\n",
       " ('Syria', 'NNP')]"
      ]
     },
     "execution_count": 19,
     "metadata": {},
     "output_type": "execute_result"
    }
   ],
   "source": [
    "nltk.pos_tag(tokens)"
   ]
  },
  {
   "cell_type": "code",
   "execution_count": 20,
   "metadata": {
    "collapsed": true
   },
   "outputs": [],
   "source": [
    "tokens = nltk.word_tokenize(needDetailsSample)\n",
    "tagged = nltk.pos_tag(tokens)\n",
    "nouns = [word for word,pos in tagged \\\n",
    "\tif (pos == 'NN' or pos == 'NNP' or pos == 'NNS' or pos == 'NNPS')]\n",
    "downcased = [x.lower() for x in nouns]\n",
    "joined = \" \".join(downcased).encode('utf-8')\n",
    "into_string = str(nouns)"
   ]
  },
  {
   "cell_type": "code",
   "execution_count": 21,
   "metadata": {
    "collapsed": false
   },
   "outputs": [
    {
     "data": {
      "text/plain": [
       "['mortars', 'ISIS', 'training', 'camp', 'Raqqa', 'Syria']"
      ]
     },
     "execution_count": 21,
     "metadata": {},
     "output_type": "execute_result"
    }
   ],
   "source": [
    "nouns"
   ]
  },
  {
   "cell_type": "code",
   "execution_count": 22,
   "metadata": {
    "collapsed": false
   },
   "outputs": [
    {
     "data": {
      "text/plain": [
       "b'mortars isis training camp raqqa syria'"
      ]
     },
     "execution_count": 22,
     "metadata": {},
     "output_type": "execute_result"
    }
   ],
   "source": [
    "joined"
   ]
  },
  {
   "cell_type": "markdown",
   "metadata": {},
   "source": [
    "\n",
    "\n",
    "\n",
    "\n",
    "\n",
    "\n",
    "\n"
   ]
  },
  {
   "cell_type": "markdown",
   "metadata": {},
   "source": [
    "#### This is the function to obtain the OBJECTS that General Dynamics provides"
   ]
  },
  {
   "cell_type": "code",
   "execution_count": 57,
   "metadata": {
    "collapsed": false
   },
   "outputs": [],
   "source": [
    "def getGDData():\n",
    "    all_data = []\n",
    "    context = ssl._create_unverified_context()\n",
    "    for c in ascii_lowercase:\n",
    "        url = \"https://gbca-integration-568734290.us-east-1.elb.amazonaws.com/objects/search/\" + c\n",
    "        webURL = urllib.request.urlopen(url, context = context)\n",
    "        data = webURL.read()\n",
    "        encoding = webURL.info().get_content_charset('utf-8')\n",
    "        data = json.loads(data.decode(encoding))\n",
    "        all_data.extend(data)\n",
    "    objects = [x['definition'] for x in all_data]\n",
    "    removeParentheses = [re.sub(\"[\\(\\[].*?[\\)\\]]\", \"\", x) for x in objects]\n",
    "    removeBrackets = [re.sub(\"[\\{\\[].*?[\\}\\]]\", \"\", x) for x in removeParentheses]\n",
    "    trimmedObjects = [x.rstrip() for x in removeBrackets]\n",
    "    trimmedObjects.sort();\n",
    "    gdSet = list(set(trimmedObjects))\n",
    "    gdData = [x.lower() for x in gdSet]\n",
    "    gdData.remove('')\n",
    "    return gdData"
   ]
  },
  {
   "cell_type": "markdown",
   "metadata": {},
   "source": [
    "#### This is the function to identify a VERB within the unstructured Need"
   ]
  },
  {
   "cell_type": "code",
   "execution_count": 28,
   "metadata": {
    "collapsed": true
   },
   "outputs": [],
   "source": [
    "def identifyVerbs(unprocessedDataObject):\n",
    "    verbs = ['Assess', 'Associate','Characterize','Convey','Determine','Mensurate','Monitor','Navigate','Orient','Provide','Recognize','Track','Understand','Detect', 'Identify']\n",
    "    downcasedVerbs = [x.lower() for x in verbs]\n",
    "    tokens = word_tokenize(unprocessedDataObject['unstructuredNeed'])\n",
    "    downcasedTokens = [y.lower() for y in tokens]\n",
    "    identifiedVerbs = [token.capitalize() for token in downcasedTokens if token in downcasedVerbs]\n",
    "    return identifiedVerbs[0]"
   ]
  },
  {
   "cell_type": "markdown",
   "metadata": {},
   "source": [
    "#### This is the function to identify an OBJECT within the unstructured Need"
   ]
  },
  {
   "cell_type": "code",
   "execution_count": 30,
   "metadata": {
    "collapsed": true
   },
   "outputs": [],
   "source": [
    "def identifyObject(unprocessedDataObject):\n",
    "#     use finalObjects from above\n",
    "    unstructuredText = unprocessedDataObject['unstructuredNeed'];\n",
    "    \n",
    "    objectsFound= [x for x in finalObjects if re.findall(x, unstructuredText)]\n",
    "    return objectsFound"
   ]
  },
  {
   "cell_type": "markdown",
   "metadata": {},
   "source": [
    "#### This is the function to search and find the location within the unstructured Need"
   ]
  },
  {
   "cell_type": "code",
   "execution_count": 31,
   "metadata": {
    "collapsed": true
   },
   "outputs": [],
   "source": [
    "def identifyLocation(unprocessedDataObject):\n",
    "    unstructuredText = unprocessedDataObject['unstructuredNeed'];\n",
    "    \n",
    "    numregex = '[-+]?[0-9]{0,3}(?:(?:\\.[0-9]+)|(?:[0-9]+))';\n",
    "    mgrsRegEx = \"^\\d{1,2}[^ABIOYZabioyz][A-Za-z]{2}([0-9][0-9])+$\";\n",
    "    \n",
    "    pattern = '(' + numregex + ',\\s{1}' + numregex + ')'\n",
    "    \n",
    "    tokens = word_tokenize(unprocessedDataObject['unstructuredNeed'])\n",
    "\n",
    "    regex1 = re.compile(pattern);\n",
    "    regex2 = re.compile(numregex);\n",
    "    regex3 = re.compile(mgrsRegEx);\n",
    "    \n",
    "    for x in tokens:\n",
    "        if regex3.findall(x):\n",
    "            print (x + \" MGRS\")\n",
    "        elif regex1.findall(x):\n",
    "            print (x + \" NO MGRS BUT LAT LONG\");\n",
    "        else:\n",
    "            print ('')\n",
    "        \n",
    "        \n",
    "\n",
    "    mgrsLocation = regex3.search(unstructuredText);\n",
    "    searchLocation = regex2.search(unstructuredText);\n",
    "    \n",
    "    if (mgrsLocation):\n",
    "        return mgrsLocation.g\n",
    "    else:\n",
    "        return searchLocation"
   ]
  },
  {
   "cell_type": "markdown",
   "metadata": {},
   "source": [
    "## This is the MAIN function which calls the helper functions listed above"
   ]
  },
  {
   "cell_type": "code",
   "execution_count": null,
   "metadata": {
    "collapsed": true
   },
   "outputs": [],
   "source": [
    "#### Get all the Unstructured Needs\n",
    "import urllib.request\n",
    "response=urllib.request.urlopen(\"https://needs-tool-api-dev.dev.dev.east.paas.geointservices.io/need/getAllUnstructuredNeeds\").read()\n",
    "output = response.decode('utf-8')\n",
    "data = json.loads(output)\n",
    "\n",
    "#only process the NEW data\n",
    "unprocessedData= [item for item in data['needs'] if item['status'] != 'Processed']\n",
    "\n",
    "# go get the GD data and use this list\n",
    "finalObjects= getGDData();\n",
    "\n",
    "#begin processing\n",
    "for unprocessedDataObject in unprocessedData:\n",
    "    #find the Verb\n",
    "    unprocessedDataObject['Verb']= identifyVerbs(unprocessedDataObject);\n",
    "    #find the object\n",
    "    unprocessedDataObject['Object'] = identifyObject(unprocessedDataObject);\n",
    "    #find the location\n",
    "    unprocessedDataObject['Location'] = identifyObject(unprocessedDataObject);"
   ]
  },
  {
   "cell_type": "markdown",
   "metadata": {},
   "source": [
    "###### This is just a sample of the data object called above"
   ]
  },
  {
   "cell_type": "code",
   "execution_count": 147,
   "metadata": {
    "collapsed": false
   },
   "outputs": [
    {
     "data": {
      "text/plain": [
       "{'message': 'Success to get all user need data from the database. ',\n",
       " 'needs': [{'UnstructuredNeedId': '1',\n",
       "   'status': 'New',\n",
       "   'submissionDate': 'Mon Feb 12 2018 15:33:34 GMT+0000 (UTC)',\n",
       "   'unstructuredNeed': 'I need to detect elephant carcasses near a road in Nairobi at location MX12345678 as soon as possible.',\n",
       "   'user': '[object Object]'},\n",
       "  {'UnstructuredNeedId': '3',\n",
       "   'status': 'New',\n",
       "   'submissionDate': 'Mon Feb 12 2018 15:36:59 GMT+0000 (UTC)',\n",
       "   'unstructuredNeed': 'Can you identify whether the truck stuck at 35.9594N, 38.9981E is carrying ISIS soldiers or is affiliated with ISIS in any way possible.',\n",
       "   'user': '[object Object]'},\n",
       "  {'UnstructuredNeedId': '2',\n",
       "   'status': 'New',\n",
       "   'submissionDate': 'Mon Feb 12 2018 15:34:26 GMT+0000 (UTC)',\n",
       "   'unstructuredNeed': 'Please determine if there are ISIS encampments near Mosul, Iraq at grid location AB87654321.',\n",
       "   'user': '[object Object]'},\n",
       "  {'UnstructuredNeedId': '4',\n",
       "   'status': 'New',\n",
       "   'submissionDate': 'Mon Feb 12 2018 15:53:43 GMT+0000 (UTC)',\n",
       "   'unstructuredNeed': 'This is a test unstructured need to simulate a need status change',\n",
       "   'user': '[object Object]'}],\n",
       " 'success': True}"
      ]
     },
     "execution_count": 147,
     "metadata": {},
     "output_type": "execute_result"
    }
   ],
   "source": [
    "data"
   ]
  },
  {
   "cell_type": "markdown",
   "metadata": {
    "collapsed": false
   },
   "source": [
    "###### Another sample from above"
   ]
  },
  {
   "cell_type": "code",
   "execution_count": 43,
   "metadata": {
    "collapsed": false
   },
   "outputs": [
    {
     "data": {
      "text/plain": [
       "['elephant carcasses']"
      ]
     },
     "execution_count": 43,
     "metadata": {},
     "output_type": "execute_result"
    }
   ],
   "source": [
    "re.findall('elephant carcasses', testString)"
   ]
  },
  {
   "cell_type": "markdown",
   "metadata": {},
   "source": [
    "###### This is a sample of the data object AFTER processing is finished"
   ]
  },
  {
   "cell_type": "code",
   "execution_count": 63,
   "metadata": {
    "collapsed": false
   },
   "outputs": [
    {
     "data": {
      "text/plain": [
       "[{'Object': ['road', 'elephant carcasses'],\n",
       "  'UnstructuredNeedId': '1',\n",
       "  'Verb': 'Detect',\n",
       "  'email': 'chaddddddd111111122222@chad.com',\n",
       "  'organization': 'Booz Allen',\n",
       "  'role': 'customer',\n",
       "  'status': 'New',\n",
       "  'submissionDate': 'undefined',\n",
       "  'unstructuredNeed': 'I need to detect elephant carcasses near a road in Nairobi at location MX12345678 as soon as possible.',\n",
       "  'userFirstName': 'Chad',\n",
       "  'userLastName': 'D',\n",
       "  'username': 'chadd'},\n",
       " {'Object': ['camp'],\n",
       "  'UnstructuredNeedId': '3',\n",
       "  'Verb': 'Determine',\n",
       "  'email': 'chaddddddd111111122222@chad.com',\n",
       "  'organization': 'Booz Allen',\n",
       "  'role': 'customer',\n",
       "  'status': 'New',\n",
       "  'submissionDate': 'undefined',\n",
       "  'unstructuredNeed': 'Please determine if there are ISIS encampments near Mosul, Iraq at grid location AB87654321.',\n",
       "  'userFirstName': 'Chad',\n",
       "  'userLastName': 'D',\n",
       "  'username': 'chadd'},\n",
       " {'Object': [],\n",
       "  'UnstructuredNeedId': '2',\n",
       "  'Verb': 'Identify',\n",
       "  'email': 'chaddddddd111111122222@chad.com',\n",
       "  'organization': 'Booz Allen',\n",
       "  'role': 'customer',\n",
       "  'status': 'New',\n",
       "  'submissionDate': 'undefined',\n",
       "  'unstructuredNeed': 'Can you identify whether the truck stuck at 35.9594N, 38.9981E is carrying ISIS soldiers or is affiliated with ISIS in any way possible.',\n",
       "  'userFirstName': 'Chad',\n",
       "  'userLastName': 'D',\n",
       "  'username': 'chadd'}]"
      ]
     },
     "execution_count": 63,
     "metadata": {},
     "output_type": "execute_result"
    }
   ],
   "source": [
    "unprocessedData"
   ]
  },
  {
   "cell_type": "code",
   "execution_count": 206,
   "metadata": {
    "collapsed": false
   },
   "outputs": [
    {
     "name": "stdout",
     "output_type": "stream",
     "text": [
      "\n",
      "\n",
      "\n",
      "\n",
      "\n",
      "\n",
      "\n",
      "\n",
      "\n",
      "\n",
      "\n",
      "\n",
      "\n",
      "\n",
      "\n",
      "\n",
      "\n",
      "\n",
      "\n"
     ]
    },
    {
     "ename": "AttributeError",
     "evalue": "'str' object has no attribute 'start'",
     "output_type": "error",
     "traceback": [
      "\u001b[0;31m---------------------------------------------------------------------------\u001b[0m",
      "\u001b[0;31mAttributeError\u001b[0m                            Traceback (most recent call last)",
      "\u001b[0;32m<ipython-input-206-7b79ed960d8f>\u001b[0m in \u001b[0;36m<module>\u001b[0;34m()\u001b[0m\n\u001b[1;32m      1\u001b[0m \u001b[0mm\u001b[0m\u001b[0;34m=\u001b[0m\u001b[0midentifyLocation\u001b[0m\u001b[0;34m(\u001b[0m\u001b[0munprocessedData\u001b[0m\u001b[0;34m[\u001b[0m\u001b[0;36m0\u001b[0m\u001b[0;34m]\u001b[0m\u001b[0;34m)\u001b[0m\u001b[0;34m.\u001b[0m\u001b[0mgroup\u001b[0m\u001b[0;34m(\u001b[0m\u001b[0;36m0\u001b[0m\u001b[0;34m)\u001b[0m\u001b[0;34m\u001b[0m\u001b[0m\n\u001b[0;32m----> 2\u001b[0;31m \u001b[0mm\u001b[0m\u001b[0;34m[\u001b[0m\u001b[0mm\u001b[0m\u001b[0;34m.\u001b[0m\u001b[0mstart\u001b[0m\u001b[0;34m(\u001b[0m\u001b[0mg\u001b[0m\u001b[0;34m)\u001b[0m\u001b[0;34m:\u001b[0m\u001b[0mm\u001b[0m\u001b[0;34m.\u001b[0m\u001b[0mend\u001b[0m\u001b[0;34m(\u001b[0m\u001b[0mg\u001b[0m\u001b[0;34m)\u001b[0m\u001b[0;34m]\u001b[0m\u001b[0;34m\u001b[0m\u001b[0m\n\u001b[0m",
      "\u001b[0;31mAttributeError\u001b[0m: 'str' object has no attribute 'start'"
     ]
    }
   ],
   "source": [
    "m=identifyLocation(unprocessedData[0]).group(0)\n",
    "m[m.start(g):m.end(g)]"
   ]
  },
  {
   "cell_type": "code",
   "execution_count": 176,
   "metadata": {
    "collapsed": false
   },
   "outputs": [
    {
     "name": "stdout",
     "output_type": "stream",
     "text": [
      "['Please', 'determine', 'if', 'there', 'are', 'ISIS', 'encampments', 'near', 'Mosul', ',', 'Iraq', 'at', 'grid', 'location', 'AB87654321', '.']\n",
      "Please\n",
      "nothing\n",
      "determine\n",
      "nothing\n",
      "if\n",
      "nothing\n",
      "there\n",
      "nothing\n",
      "are\n",
      "nothing\n",
      "ISIS\n",
      "nothing\n",
      "encampments\n",
      "nothing\n",
      "near\n",
      "nothing\n",
      "Mosul\n",
      "nothing\n",
      ",\n",
      "nothing\n",
      "Iraq\n",
      "nothing\n",
      "at\n",
      "nothing\n",
      "grid\n",
      "nothing\n",
      "location\n",
      "nothing\n",
      "AB87654321\n",
      "nothing\n",
      ".\n",
      "nothing\n"
     ]
    },
    {
     "data": {
      "text/plain": [
       "<_sre.SRE_Match object; span=(83, 91), match='87654321'>"
      ]
     },
     "execution_count": 176,
     "metadata": {},
     "output_type": "execute_result"
    }
   ],
   "source": [
    "identifyLocation(unprocessedData[1])\n"
   ]
  },
  {
   "cell_type": "code",
   "execution_count": 144,
   "metadata": {
    "collapsed": false
   },
   "outputs": [
    {
     "data": {
      "text/plain": [
       "'35.9594'"
      ]
     },
     "execution_count": 144,
     "metadata": {},
     "output_type": "execute_result"
    }
   ],
   "source": [
    "identifyLocation(unprocessedData[2]).group(0)"
   ]
  },
  {
   "cell_type": "code",
   "execution_count": 133,
   "metadata": {
    "collapsed": false
   },
   "outputs": [
    {
     "ename": "IndexError",
     "evalue": "list index out of range",
     "output_type": "error",
     "traceback": [
      "\u001b[0;31m---------------------------------------------------------------------------\u001b[0m",
      "\u001b[0;31mIndexError\u001b[0m                                Traceback (most recent call last)",
      "\u001b[0;32m<ipython-input-133-310ab2dc80e3>\u001b[0m in \u001b[0;36m<module>\u001b[0;34m()\u001b[0m\n\u001b[0;32m----> 1\u001b[0;31m \u001b[0midentifyLocation\u001b[0m\u001b[0;34m(\u001b[0m\u001b[0munprocessedData\u001b[0m\u001b[0;34m[\u001b[0m\u001b[0;36m3\u001b[0m\u001b[0;34m]\u001b[0m\u001b[0;34m)\u001b[0m\u001b[0;34m\u001b[0m\u001b[0m\n\u001b[0m",
      "\u001b[0;31mIndexError\u001b[0m: list index out of range"
     ]
    }
   ],
   "source": [
    "identifyLocation(unprocessedData[3])"
   ]
  },
  {
   "cell_type": "code",
   "execution_count": 69,
   "metadata": {
    "collapsed": false
   },
   "outputs": [
    {
     "ename": "SyntaxError",
     "evalue": "invalid syntax (<ipython-input-69-60aa3df4ee52>, line 1)",
     "output_type": "error",
     "traceback": [
      "\u001b[0;36m  File \u001b[0;32m\"<ipython-input-69-60aa3df4ee52>\"\u001b[0;36m, line \u001b[0;32m1\u001b[0m\n\u001b[0;31m    re.findall(^[-+]?([1-8]?\\d(\\.\\d+)?|90(\\.0+)?),\\s*[-+]?(180(\\.0+)?|((1[0-7]\\d)|([1-9]?\\d))(\\.\\d+)?)$,test)\u001b[0m\n\u001b[0m               ^\u001b[0m\n\u001b[0;31mSyntaxError\u001b[0m\u001b[0;31m:\u001b[0m invalid syntax\n"
     ]
    }
   ],
   "source": [
    "re.findall(^[-+]?([1-8]?\\d(\\.\\d+)?|90(\\.0+)?),\\s*[-+]?(180(\\.0+)?|((1[0-7]\\d)|([1-9]?\\d))(\\.\\d+)?)$,test)\n"
   ]
  }
 ],
 "metadata": {
  "kernelspec": {
   "display_name": "Python 3",
   "language": "python",
   "name": "python3"
  },
  "language_info": {
   "codemirror_mode": {
    "name": "ipython",
    "version": 3
   },
   "file_extension": ".py",
   "mimetype": "text/x-python",
   "name": "python",
   "nbconvert_exporter": "python",
   "pygments_lexer": "ipython3",
   "version": "3.6.0"
  }
 },
 "nbformat": 4,
 "nbformat_minor": 1
}
