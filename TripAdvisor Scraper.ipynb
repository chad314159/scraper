{
 "cells": [
  {
   "cell_type": "code",
   "execution_count": 2,
   "metadata": {
    "collapsed": false
   },
   "outputs": [],
   "source": [
    "import time\n",
    "from selenium import webdriver\n",
    "from selenium.webdriver.common.by import By\n",
    "from selenium.webdriver.support.ui import WebDriverWait\n",
    "from selenium.webdriver.support import expected_conditions as EC\n",
    "from selenium.common.exceptions import TimeoutException"
   ]
  },
  {
   "cell_type": "code",
   "execution_count": 3,
   "metadata": {
    "collapsed": true
   },
   "outputs": [],
   "source": [
    "def scrapeTripAdvisor(driver):\n",
    "    \n",
    "        \n",
    "    return driver"
   ]
  },
  {
   "cell_type": "code",
   "execution_count": 4,
   "metadata": {
    "collapsed": false
   },
   "outputs": [],
   "source": [
    "def init_driver():\n",
    "    #driver = webdriver.Chrome()\n",
    "    chromeOptions = webdriver.ChromeOptions()\n",
    "    chromeOptions.add_argument('— incognito')\n",
    "\n",
    "    prefs = {\"profile.managed_default_content_settings.images\":2}\n",
    "    chromeOptions.add_experimental_option(\"prefs\",prefs)\n",
    "    driver = webdriver.Chrome(chrome_options=chromeOptions)\n",
    "    driver.wait = WebDriverWait(driver, 25)\n",
    "    return driver"
   ]
  },
  {
   "cell_type": "code",
   "execution_count": 342,
   "metadata": {
    "collapsed": false
   },
   "outputs": [],
   "source": [
    "all_headlines=[]; #the main headline\n",
    "all_reviews=[];  #the text\n",
    "all_ratingDates= []; # date of rating\n",
    "all_ids = []; #ID of rater\n",
    "all_ratings = [];\n",
    "\n",
    "all_data= [];\n",
    "\n",
    "def lookup(driver, query, pages):\n",
    "    \n",
    "    y = 0;\n",
    "    \n",
    "    while(y < 320):\n",
    "        if(y< 1):\n",
    "            driver.get(query)\n",
    "            try:\n",
    "                content = driver.find_element_by_css_selector('span.taLnk.ulBlueLinks');\n",
    "                content.click();\n",
    "                time.sleep(5);\n",
    "                \n",
    "                reviewIds = driver.find_elements_by_class_name('reviewSelector')\n",
    "                content12 = driver.find_elements_by_css_selector('p.partial_entry');\n",
    "                headline = driver.find_elements_by_css_selector('span.noQuotes')\n",
    "                ratingDates = driver.find_elements_by_css_selector('span.ratingDate.relativeDate')\n",
    "                baseReviews=driver.find_elements_by_css_selector('div.rating.reviewItemInline')\n",
    "\n",
    "\n",
    "                allRatings = [int(c.find_element_by_xpath(\".//span[contains(@class,'ui_bubble_rating')]\").get_attribute(\"class\").split(\" \")[1].split(\"_\")[1])/10 for c in baseReviews]\n",
    "                ids = [t.get_attribute('data-reviewid') for t in reviewIds];\n",
    "                dates = [w.get_property('title') for w in ratingDates];\n",
    "                headlines = [z.text for z in headline];\n",
    "                reviews = [x.text for x in content12];\n",
    "                \n",
    "                \n",
    "                all_ratings.extend(allRatings);\n",
    "                all_ids.extend(ids);\n",
    "                all_headlines.extend(headlines);\n",
    "                all_reviews.extend(reviews);\n",
    "                all_ratingDates.extend(dates);\n",
    "                \n",
    "                y+=10;\n",
    "                #element = driver.find_element_by_xpath(\"//div[@id='ui_column is-9']//div[@id='innerBubble']//div[@id='wrap']//div[@id='prw_rup prw_reviews_text_summary_hsx']//p[@id='partial_entry']]//span[@id='taLnk ulBlueLinks']\")\n",
    "                #element.click();\n",
    "\n",
    "            except TimeoutException:\n",
    "                print(\"Box or Button not found in google.com\")                                  \n",
    "        else:\n",
    "\n",
    "            query = \"https://www.tripadvisor.com/Restaurant_Review-g53942-d544336-Reviews-\" + \"or\" + str(y)  + \"-The_Steak_House-Wellsboro_Pennsylvania.html\";\n",
    "            driver.get(query)\n",
    "            try:\n",
    "                content = driver.find_element_by_css_selector('span.taLnk.ulBlueLinks');\n",
    "                content.click();\n",
    "                time.sleep(5);\n",
    "                \n",
    "                reviewIds = driver.find_elements_by_class_name('reviewSelector')\n",
    "                content12 = driver.find_elements_by_css_selector('p.partial_entry');\n",
    "                headline = driver.find_elements_by_css_selector('span.noQuotes')\n",
    "                ratingDates = driver.find_elements_by_css_selector('span.ratingDate.relativeDate')\n",
    "                baseReviews=driver.find_elements_by_css_selector('div.rating.reviewItemInline')\n",
    "\n",
    "\n",
    "                allRatings = [int(c.find_element_by_xpath(\".//span[contains(@class,'ui_bubble_rating')]\").get_attribute(\"class\").split(\" \")[1].split(\"_\")[1])/10 for c in baseReviews]\n",
    "                ids = [t.get_attribute('data-reviewid') for t in reviewIds];\n",
    "                dates = [w.get_property('title') for w in ratingDates];\n",
    "                headlines = [z.text for z in headline];\n",
    "                reviews = [x.text for x in content12];\n",
    "                \n",
    "                \n",
    "                all_ratings.extend(allRatings);\n",
    "                all_ids.extend(ids);\n",
    "                all_headlines.extend(headlines);\n",
    "                all_reviews.extend(reviews);\n",
    "                all_ratingDates.extend(dates);\n",
    "                \n",
    "                y+=10;\n",
    "                #element = driver.find_element_by_xpath(\"//div[@id='ui_column is-9']//div[@id='innerBubble']//div[@id='wrap']//div[@id='prw_rup prw_reviews_text_summary_hsx']//p[@id='partial_entry']]//span[@id='taLnk ulBlueLinks']\")\n",
    "                #element.click();\n",
    "\n",
    "            except TimeoutException:\n",
    "                print(\"Box or Button not found in google.com\")\n",
    "                \n",
    "    all_data.extend(zip(all_ratings,all_ids,all_headlines,all_reviews,all_ratingDates));\n",
    "\n"
   ]
  },
  {
   "cell_type": "code",
   "execution_count": 343,
   "metadata": {
    "collapsed": false
   },
   "outputs": [],
   "source": [
    "driver = init_driver()\n",
    "url= \"https://www.tripadvisor.com/Restaurant_Review-g53942-d544336-Reviews-The_Steak_House-Wellsboro_Pennsylvania.html\"\n",
    "lookup(driver, url, 310)\n",
    "# scrapeTripAdvisor(driver)"
   ]
  },
  {
   "cell_type": "code",
   "execution_count": 344,
   "metadata": {
    "collapsed": false
   },
   "outputs": [
    {
     "data": {
      "text/plain": [
       "[(5,\n",
       "  u'549578126',\n",
       "  u'Went here twice on the same weekend',\n",
       "  u'This was our 2nd set of visits to The Steak House; we were here the last time we visited Wellsboro for one of their festival weekends. Great Food and sitting at the bar--only a few seats though--is a nice experience. Clientele/staff is friendly; Chris, the hostess, and Geoff, the bartender contribute to the friendly atmosphere...both owners, I believe. Local color at the bar. If you like bourbon, ask Geoff to make you his \"smoker\". Filet and prime rib were nicely prepared. Lunch during the Dicken\\'s Festival was from a limited menu, but also very good. We will return every time we are in Wellsboro.',\n",
       "  u'December 27, 2017'),\n",
       " (5,\n",
       "  u'549086396',\n",
       "  u'A Great Place to Eat on Main Street',\n",
       "  u'I\\'ve lived in Wellsboro for almost 10 years. We went to The Steakhouse when we first moved here and were not impressed. A couple of years ago, we \"rediscovered\" The Steakhouse, and I\\'m glad we did because now it\\'s one of our favorite places. We can\\'t ever seem to resist ordering the Drunken Pig Burger. The aged cheddar and candied-bacon on the juicy burger are amazing! I have enjoyed the scallops and the crab cakes. The kids menu is one of the most extensive around - much more than your typical chicken fingers and fries (during First Fridays in Wellsboro, kids eat FREE for each paying adult, it\\'s an awesome deal for our family of four). To cap off the dinner, be sure to make room for their homemade pies! They are delicious, and if we\\'re too full, we take it to go.',\n",
       "  u'December 24, 2017')]"
      ]
     },
     "execution_count": 344,
     "metadata": {},
     "output_type": "execute_result"
    }
   ],
   "source": [
    "all_data[0:2]"
   ]
  },
  {
   "cell_type": "code",
   "execution_count": 345,
   "metadata": {
    "collapsed": false
   },
   "outputs": [
    {
     "data": {
      "text/plain": [
       "320"
      ]
     },
     "execution_count": 345,
     "metadata": {},
     "output_type": "execute_result"
    }
   ],
   "source": [
    "len(all_data)"
   ]
  },
  {
   "cell_type": "code",
   "execution_count": 312,
   "metadata": {
    "collapsed": false
   },
   "outputs": [
    {
     "data": {
      "text/plain": [
       "(5,\n",
       " u'549578126',\n",
       " u'Went here twice on the same weekend',\n",
       " u'This was our 2nd set of visits to The Steak House; we were here the last time we visited Wellsboro for one of their festival weekends. Great Food and sitting at the bar--only a few seats though--is a nice experience. Clientele/staff is friendly; Chris, the hostess, and Geoff, the bartender contribute to the friendly atmosphere...both owners, I believe. Local color at the bar. If you like bourbon, ask Geoff to make you his \"smoker\". Filet and prime rib were nicely prepared. Lunch during the Dicken\\'s Festival was from a limited menu, but also very good. We will return every time we are in Wellsboro.',\n",
       " u'December 27, 2017')"
      ]
     },
     "execution_count": 312,
     "metadata": {},
     "output_type": "execute_result"
    }
   ],
   "source": [
    "all_data[0]"
   ]
  },
  {
   "cell_type": "code",
   "execution_count": 307,
   "metadata": {
    "collapsed": false
   },
   "outputs": [
    {
     "data": {
      "text/plain": [
       "5"
      ]
     },
     "execution_count": 307,
     "metadata": {},
     "output_type": "execute_result"
    }
   ],
   "source": [
    "tester"
   ]
  },
  {
   "cell_type": "code",
   "execution_count": 297,
   "metadata": {
    "collapsed": false
   },
   "outputs": [],
   "source": [
    "import pandas as pd\n",
    "import numpy as np\n",
    "import matplotlib.pyplot as plt\n",
    "import seaborn as sns"
   ]
  },
  {
   "cell_type": "code",
   "execution_count": 298,
   "metadata": {
    "collapsed": true
   },
   "outputs": [],
   "source": [
    "import nltk\n",
    "from nltk.corpus import stopwords"
   ]
  },
  {
   "cell_type": "code",
   "execution_count": 302,
   "metadata": {
    "collapsed": false
   },
   "outputs": [],
   "source": [
    "labels= ['rating', 'userId','headline', 'review','date']"
   ]
  },
  {
   "cell_type": "code",
   "execution_count": 316,
   "metadata": {
    "collapsed": false
   },
   "outputs": [
    {
     "data": {
      "text/plain": [
       "(5,\n",
       " u'549578126',\n",
       " u'Went here twice on the same weekend',\n",
       " u'This was our 2nd set of visits to The Steak House; we were here the last time we visited Wellsboro for one of their festival weekends. Great Food and sitting at the bar--only a few seats though--is a nice experience. Clientele/staff is friendly; Chris, the hostess, and Geoff, the bartender contribute to the friendly atmosphere...both owners, I believe. Local color at the bar. If you like bourbon, ask Geoff to make you his \"smoker\". Filet and prime rib were nicely prepared. Lunch during the Dicken\\'s Festival was from a limited menu, but also very good. We will return every time we are in Wellsboro.',\n",
       " u'December 27, 2017')"
      ]
     },
     "execution_count": 316,
     "metadata": {},
     "output_type": "execute_result"
    }
   ],
   "source": [
    "all_data[0]"
   ]
  },
  {
   "cell_type": "code",
   "execution_count": 317,
   "metadata": {
    "collapsed": true
   },
   "outputs": [],
   "source": [
    "from itertools import izip"
   ]
  },
  {
   "cell_type": "code",
   "execution_count": 318,
   "metadata": {
    "collapsed": false
   },
   "outputs": [
    {
     "data": {
      "text/plain": [
       "[('rating', 2),\n",
       " ('userId', u'541838431'),\n",
       " ('headline', u'Sinner'),\n",
       " ('review',\n",
       "  u'Wife had salmon that tasted awful and dry. I had the black diamond steak and if was ok, a little too much garlic seasoning for my taste.'),\n",
       " ('date', u'November 18, 2017')]"
      ]
     },
     "execution_count": 318,
     "metadata": {},
     "output_type": "execute_result"
    }
   ],
   "source": [
    "zip(labels,all_data[2])"
   ]
  },
  {
   "cell_type": "code",
   "execution_count": 319,
   "metadata": {
    "collapsed": false
   },
   "outputs": [
    {
     "data": {
      "text/plain": [
       "{'date': u'November 18, 2017',\n",
       " 'headline': u'Sinner',\n",
       " 'rating': 2,\n",
       " 'review': u'Wife had salmon that tasted awful and dry. I had the black diamond steak and if was ok, a little too much garlic seasoning for my taste.',\n",
       " 'userId': u'541838431'}"
      ]
     },
     "execution_count": 319,
     "metadata": {},
     "output_type": "execute_result"
    }
   ],
   "source": [
    "dict(zip(labels,all_data[2]))"
   ]
  },
  {
   "cell_type": "code",
   "execution_count": 346,
   "metadata": {
    "collapsed": false
   },
   "outputs": [],
   "source": [
    "reviewDataDict= [dict(zip(labels,row)) for row in all_data]"
   ]
  },
  {
   "cell_type": "code",
   "execution_count": 347,
   "metadata": {
    "collapsed": true
   },
   "outputs": [],
   "source": [
    "df = pd.DataFrame.from_dict(reviewDataDict)"
   ]
  },
  {
   "cell_type": "code",
   "execution_count": 348,
   "metadata": {
    "collapsed": false
   },
   "outputs": [
    {
     "data": {
      "text/plain": [
       "(320, 5)"
      ]
     },
     "execution_count": 348,
     "metadata": {},
     "output_type": "execute_result"
    }
   ],
   "source": [
    "df.shape"
   ]
  },
  {
   "cell_type": "code",
   "execution_count": 349,
   "metadata": {
    "collapsed": false
   },
   "outputs": [
    {
     "data": {
      "text/html": [
       "<div>\n",
       "<table border=\"1\" class=\"dataframe\">\n",
       "  <thead>\n",
       "    <tr style=\"text-align: right;\">\n",
       "      <th></th>\n",
       "      <th>date</th>\n",
       "      <th>headline</th>\n",
       "      <th>rating</th>\n",
       "      <th>review</th>\n",
       "      <th>userId</th>\n",
       "    </tr>\n",
       "  </thead>\n",
       "  <tbody>\n",
       "    <tr>\n",
       "      <th>0</th>\n",
       "      <td>December 27, 2017</td>\n",
       "      <td>Went here twice on the same weekend</td>\n",
       "      <td>5</td>\n",
       "      <td>This was our 2nd set of visits to The Steak Ho...</td>\n",
       "      <td>549578126</td>\n",
       "    </tr>\n",
       "    <tr>\n",
       "      <th>1</th>\n",
       "      <td>December 24, 2017</td>\n",
       "      <td>A Great Place to Eat on Main Street</td>\n",
       "      <td>5</td>\n",
       "      <td>I've lived in Wellsboro for almost 10 years. W...</td>\n",
       "      <td>549086396</td>\n",
       "    </tr>\n",
       "    <tr>\n",
       "      <th>2</th>\n",
       "      <td>November 18, 2017</td>\n",
       "      <td>Sinner</td>\n",
       "      <td>2</td>\n",
       "      <td>Wife had salmon that tasted awful and dry. I h...</td>\n",
       "      <td>541838431</td>\n",
       "    </tr>\n",
       "    <tr>\n",
       "      <th>3</th>\n",
       "      <td>November 11, 2017</td>\n",
       "      <td>Don't miss this great place !!</td>\n",
       "      <td>5</td>\n",
       "      <td>We stopped on our way to New York finger lakes...</td>\n",
       "      <td>540152359</td>\n",
       "    </tr>\n",
       "    <tr>\n",
       "      <th>4</th>\n",
       "      <td>November 8, 2017</td>\n",
       "      <td>Night out</td>\n",
       "      <td>5</td>\n",
       "      <td>In town to hike the canyon and asked our hotel...</td>\n",
       "      <td>539504723</td>\n",
       "    </tr>\n",
       "  </tbody>\n",
       "</table>\n",
       "</div>"
      ],
      "text/plain": [
       "                date                             headline  rating  \\\n",
       "0  December 27, 2017  Went here twice on the same weekend       5   \n",
       "1  December 24, 2017  A Great Place to Eat on Main Street       5   \n",
       "2  November 18, 2017                               Sinner       2   \n",
       "3  November 11, 2017       Don't miss this great place !!       5   \n",
       "4   November 8, 2017                            Night out       5   \n",
       "\n",
       "                                              review     userId  \n",
       "0  This was our 2nd set of visits to The Steak Ho...  549578126  \n",
       "1  I've lived in Wellsboro for almost 10 years. W...  549086396  \n",
       "2  Wife had salmon that tasted awful and dry. I h...  541838431  \n",
       "3  We stopped on our way to New York finger lakes...  540152359  \n",
       "4  In town to hike the canyon and asked our hotel...  539504723  "
      ]
     },
     "execution_count": 349,
     "metadata": {},
     "output_type": "execute_result"
    }
   ],
   "source": [
    "df.head()"
   ]
  },
  {
   "cell_type": "code",
   "execution_count": 350,
   "metadata": {
    "collapsed": true
   },
   "outputs": [],
   "source": [
    "df['reviewLength'] = df['review'].apply(len)"
   ]
  },
  {
   "cell_type": "code",
   "execution_count": 351,
   "metadata": {
    "collapsed": false
   },
   "outputs": [
    {
     "data": {
      "text/html": [
       "<div>\n",
       "<table border=\"1\" class=\"dataframe\">\n",
       "  <thead>\n",
       "    <tr style=\"text-align: right;\">\n",
       "      <th></th>\n",
       "      <th>date</th>\n",
       "      <th>headline</th>\n",
       "      <th>rating</th>\n",
       "      <th>review</th>\n",
       "      <th>userId</th>\n",
       "      <th>reviewLength</th>\n",
       "    </tr>\n",
       "  </thead>\n",
       "  <tbody>\n",
       "    <tr>\n",
       "      <th>0</th>\n",
       "      <td>December 27, 2017</td>\n",
       "      <td>Went here twice on the same weekend</td>\n",
       "      <td>5</td>\n",
       "      <td>This was our 2nd set of visits to The Steak Ho...</td>\n",
       "      <td>549578126</td>\n",
       "      <td>604</td>\n",
       "    </tr>\n",
       "    <tr>\n",
       "      <th>1</th>\n",
       "      <td>December 24, 2017</td>\n",
       "      <td>A Great Place to Eat on Main Street</td>\n",
       "      <td>5</td>\n",
       "      <td>I've lived in Wellsboro for almost 10 years. W...</td>\n",
       "      <td>549086396</td>\n",
       "      <td>774</td>\n",
       "    </tr>\n",
       "    <tr>\n",
       "      <th>2</th>\n",
       "      <td>November 18, 2017</td>\n",
       "      <td>Sinner</td>\n",
       "      <td>2</td>\n",
       "      <td>Wife had salmon that tasted awful and dry. I h...</td>\n",
       "      <td>541838431</td>\n",
       "      <td>136</td>\n",
       "    </tr>\n",
       "    <tr>\n",
       "      <th>3</th>\n",
       "      <td>November 11, 2017</td>\n",
       "      <td>Don't miss this great place !!</td>\n",
       "      <td>5</td>\n",
       "      <td>We stopped on our way to New York finger lakes...</td>\n",
       "      <td>540152359</td>\n",
       "      <td>292</td>\n",
       "    </tr>\n",
       "    <tr>\n",
       "      <th>4</th>\n",
       "      <td>November 8, 2017</td>\n",
       "      <td>Night out</td>\n",
       "      <td>5</td>\n",
       "      <td>In town to hike the canyon and asked our hotel...</td>\n",
       "      <td>539504723</td>\n",
       "      <td>247</td>\n",
       "    </tr>\n",
       "  </tbody>\n",
       "</table>\n",
       "</div>"
      ],
      "text/plain": [
       "                date                             headline  rating  \\\n",
       "0  December 27, 2017  Went here twice on the same weekend       5   \n",
       "1  December 24, 2017  A Great Place to Eat on Main Street       5   \n",
       "2  November 18, 2017                               Sinner       2   \n",
       "3  November 11, 2017       Don't miss this great place !!       5   \n",
       "4   November 8, 2017                            Night out       5   \n",
       "\n",
       "                                              review     userId  reviewLength  \n",
       "0  This was our 2nd set of visits to The Steak Ho...  549578126           604  \n",
       "1  I've lived in Wellsboro for almost 10 years. W...  549086396           774  \n",
       "2  Wife had salmon that tasted awful and dry. I h...  541838431           136  \n",
       "3  We stopped on our way to New York finger lakes...  540152359           292  \n",
       "4  In town to hike the canyon and asked our hotel...  539504723           247  "
      ]
     },
     "execution_count": 351,
     "metadata": {},
     "output_type": "execute_result"
    }
   ],
   "source": [
    "df.head()"
   ]
  },
  {
   "cell_type": "code",
   "execution_count": 352,
   "metadata": {
    "collapsed": false
   },
   "outputs": [
    {
     "data": {
      "text/plain": [
       "<seaborn.axisgrid.FacetGrid at 0x11e778650>"
      ]
     },
     "execution_count": 352,
     "metadata": {},
     "output_type": "execute_result"
    }
   ],
   "source": [
    "g = sns.FacetGrid(data=df, col='rating')\n",
    "g.map(plt.hist, 'reviewLength', bins=50)"
   ]
  },
  {
   "cell_type": "code",
   "execution_count": 353,
   "metadata": {
    "collapsed": false
   },
   "outputs": [
    {
     "data": {
      "image/png": "[encoded data removed]",
      "text/plain": [
       "<matplotlib.figure.Figure at 0x11e0ad210>"
      ]
     },
     "execution_count": 353,
     "metadata": {},
     "output_type": "execute_result"
    }
   ],
   "source": [
    "g.fig"
   ]
  },
  {
   "cell_type": "code",
   "execution_count": 354,
   "metadata": {
    "collapsed": false
   },
   "outputs": [
    {
     "data": {
      "text/plain": [
       "<matplotlib.axes._subplots.AxesSubplot at 0x11e888f10>"
      ]
     },
     "execution_count": 354,
     "metadata": {},
     "output_type": "execute_result"
    }
   ],
   "source": [
    "sns.boxplot(x='rating', y='reviewLength', data=df)"
   ]
  },
  {
   "cell_type": "code",
   "execution_count": 355,
   "metadata": {
    "collapsed": false
   },
   "outputs": [
    {
     "data": {
      "image/png": "[encoded data removed]",
      "text/plain": [
       "<matplotlib.figure.Figure at 0x11e0ad210>"
      ]
     },
     "metadata": {},
     "output_type": "display_data"
    }
   ],
   "source": [
    " sns.plt.show()"
   ]
  },
  {
   "cell_type": "markdown",
   "metadata": {},
   "source": [
    "write data to file in order to not havce to scrape again"
   ]
  },
  {
   "cell_type": "code",
   "execution_count": 358,
   "metadata": {
    "collapsed": false
   },
   "outputs": [
    {
     "ename": "UnicodeEncodeError",
     "evalue": "'ascii' codec can't encode character u'\\xe9' in position 322: ordinal not in range(128)",
     "output_type": "error",
     "traceback": [
      "\u001b[0;31m---------------------------------------------------------------------------\u001b[0m",
      "\u001b[0;31mUnicodeEncodeError\u001b[0m                        Traceback (most recent call last)",
      "\u001b[0;32m<ipython-input-358-cd844dfbcb13>\u001b[0m in \u001b[0;36m<module>\u001b[0;34m()\u001b[0m\n\u001b[0;32m----> 1\u001b[0;31m \u001b[0mdf\u001b[0m\u001b[0;34m.\u001b[0m\u001b[0mto_csv\u001b[0m\u001b[0;34m(\u001b[0m\u001b[0;34m'tripAdvisorSteakhouse'\u001b[0m\u001b[0;34m,\u001b[0m \u001b[0msep\u001b[0m\u001b[0;34m=\u001b[0m\u001b[0;34m','\u001b[0m\u001b[0;34m)\u001b[0m\u001b[0;34m\u001b[0m\u001b[0m\n\u001b[0m",
      "\u001b[0;32m/Users/chadd/anaconda2/lib/python2.7/site-packages/pandas/core/frame.pyc\u001b[0m in \u001b[0;36mto_csv\u001b[0;34m(self, path_or_buf, sep, na_rep, float_format, columns, header, index, index_label, mode, encoding, compression, quoting, quotechar, line_terminator, chunksize, tupleize_cols, date_format, doublequote, escapechar, decimal, **kwds)\u001b[0m\n\u001b[1;32m   1342\u001b[0m                                      \u001b[0mdoublequote\u001b[0m\u001b[0;34m=\u001b[0m\u001b[0mdoublequote\u001b[0m\u001b[0;34m,\u001b[0m\u001b[0;34m\u001b[0m\u001b[0m\n\u001b[1;32m   1343\u001b[0m                                      escapechar=escapechar, decimal=decimal)\n\u001b[0;32m-> 1344\u001b[0;31m         \u001b[0mformatter\u001b[0m\u001b[0;34m.\u001b[0m\u001b[0msave\u001b[0m\u001b[0;34m(\u001b[0m\u001b[0;34m)\u001b[0m\u001b[0;34m\u001b[0m\u001b[0m\n\u001b[0m\u001b[1;32m   1345\u001b[0m \u001b[0;34m\u001b[0m\u001b[0m\n\u001b[1;32m   1346\u001b[0m         \u001b[0;32mif\u001b[0m \u001b[0mpath_or_buf\u001b[0m \u001b[0;32mis\u001b[0m \u001b[0mNone\u001b[0m\u001b[0;34m:\u001b[0m\u001b[0;34m\u001b[0m\u001b[0m\n",
      "\u001b[0;32m/Users/chadd/anaconda2/lib/python2.7/site-packages/pandas/formats/format.pyc\u001b[0m in \u001b[0;36msave\u001b[0;34m(self)\u001b[0m\n\u001b[1;32m   1549\u001b[0m \u001b[0;34m\u001b[0m\u001b[0m\n\u001b[1;32m   1550\u001b[0m             \u001b[0;32melse\u001b[0m\u001b[0;34m:\u001b[0m\u001b[0;34m\u001b[0m\u001b[0m\n\u001b[0;32m-> 1551\u001b[0;31m                 \u001b[0mself\u001b[0m\u001b[0;34m.\u001b[0m\u001b[0m_save\u001b[0m\u001b[0;34m(\u001b[0m\u001b[0;34m)\u001b[0m\u001b[0;34m\u001b[0m\u001b[0m\n\u001b[0m\u001b[1;32m   1552\u001b[0m \u001b[0;34m\u001b[0m\u001b[0m\n\u001b[1;32m   1553\u001b[0m         \u001b[0;32mfinally\u001b[0m\u001b[0;34m:\u001b[0m\u001b[0;34m\u001b[0m\u001b[0m\n",
      "\u001b[0;32m/Users/chadd/anaconda2/lib/python2.7/site-packages/pandas/formats/format.pyc\u001b[0m in \u001b[0;36m_save\u001b[0;34m(self)\u001b[0m\n\u001b[1;32m   1650\u001b[0m                 \u001b[0;32mbreak\u001b[0m\u001b[0;34m\u001b[0m\u001b[0m\n\u001b[1;32m   1651\u001b[0m \u001b[0;34m\u001b[0m\u001b[0m\n\u001b[0;32m-> 1652\u001b[0;31m             \u001b[0mself\u001b[0m\u001b[0;34m.\u001b[0m\u001b[0m_save_chunk\u001b[0m\u001b[0;34m(\u001b[0m\u001b[0mstart_i\u001b[0m\u001b[0;34m,\u001b[0m \u001b[0mend_i\u001b[0m\u001b[0;34m)\u001b[0m\u001b[0;34m\u001b[0m\u001b[0m\n\u001b[0m\u001b[1;32m   1653\u001b[0m \u001b[0;34m\u001b[0m\u001b[0m\n\u001b[1;32m   1654\u001b[0m     \u001b[0;32mdef\u001b[0m \u001b[0m_save_chunk\u001b[0m\u001b[0;34m(\u001b[0m\u001b[0mself\u001b[0m\u001b[0;34m,\u001b[0m \u001b[0mstart_i\u001b[0m\u001b[0;34m,\u001b[0m \u001b[0mend_i\u001b[0m\u001b[0;34m)\u001b[0m\u001b[0;34m:\u001b[0m\u001b[0;34m\u001b[0m\u001b[0m\n",
      "\u001b[0;32m/Users/chadd/anaconda2/lib/python2.7/site-packages/pandas/formats/format.pyc\u001b[0m in \u001b[0;36m_save_chunk\u001b[0;34m(self, start_i, end_i)\u001b[0m\n\u001b[1;32m   1676\u001b[0m                                         quoting=self.quoting)\n\u001b[1;32m   1677\u001b[0m \u001b[0;34m\u001b[0m\u001b[0m\n\u001b[0;32m-> 1678\u001b[0;31m         \u001b[0mlib\u001b[0m\u001b[0;34m.\u001b[0m\u001b[0mwrite_csv_rows\u001b[0m\u001b[0;34m(\u001b[0m\u001b[0mself\u001b[0m\u001b[0;34m.\u001b[0m\u001b[0mdata\u001b[0m\u001b[0;34m,\u001b[0m \u001b[0mix\u001b[0m\u001b[0;34m,\u001b[0m \u001b[0mself\u001b[0m\u001b[0;34m.\u001b[0m\u001b[0mnlevels\u001b[0m\u001b[0;34m,\u001b[0m \u001b[0mself\u001b[0m\u001b[0;34m.\u001b[0m\u001b[0mcols\u001b[0m\u001b[0;34m,\u001b[0m \u001b[0mself\u001b[0m\u001b[0;34m.\u001b[0m\u001b[0mwriter\u001b[0m\u001b[0;34m)\u001b[0m\u001b[0;34m\u001b[0m\u001b[0m\n\u001b[0m\u001b[1;32m   1679\u001b[0m \u001b[0;34m\u001b[0m\u001b[0m\n\u001b[1;32m   1680\u001b[0m \u001b[0;31m# from collections import namedtuple\u001b[0m\u001b[0;34m\u001b[0m\u001b[0;34m\u001b[0m\u001b[0m\n",
      "\u001b[0;32mpandas/lib.pyx\u001b[0m in \u001b[0;36mpandas.lib.write_csv_rows (pandas/lib.c:19472)\u001b[0;34m()\u001b[0m\n",
      "\u001b[0;31mUnicodeEncodeError\u001b[0m: 'ascii' codec can't encode character u'\\xe9' in position 322: ordinal not in range(128)"
     ]
    }
   ],
   "source": [
    "df.to_csv('tripAdvisorSteakhouse', sep=',')"
   ]
  },
  {
   "cell_type": "code",
   "execution_count": 315,
   "metadata": {
    "collapsed": false
   },
   "outputs": [
    {
     "ename": "TypeError",
     "evalue": "'int' object is not iterable",
     "output_type": "error",
     "traceback": [
      "\u001b[0;31m---------------------------------------------------------------------------\u001b[0m",
      "\u001b[0;31mTypeError\u001b[0m                                 Traceback (most recent call last)",
      "\u001b[0;32m<ipython-input-315-7c598acb6ede>\u001b[0m in \u001b[0;36m<module>\u001b[0;34m()\u001b[0m\n\u001b[0;32m----> 1\u001b[0;31m \u001b[0mdf\u001b[0m\u001b[0;34m=\u001b[0m \u001b[0mpd\u001b[0m\u001b[0;34m.\u001b[0m\u001b[0mDataFrame\u001b[0m\u001b[0;34m.\u001b[0m\u001b[0mfrom_records\u001b[0m\u001b[0;34m(\u001b[0m\u001b[0mall_data\u001b[0m\u001b[0;34m[\u001b[0m\u001b[0;36m0\u001b[0m\u001b[0;34m]\u001b[0m\u001b[0;34m,\u001b[0m \u001b[0mlabels\u001b[0m\u001b[0;34m)\u001b[0m\u001b[0;34m;\u001b[0m\u001b[0;34m\u001b[0m\u001b[0m\n\u001b[0m",
      "\u001b[0;32m/Users/chadd/anaconda2/lib/python2.7/site-packages/pandas/core/frame.pyc\u001b[0m in \u001b[0;36mfrom_records\u001b[0;34m(cls, data, index, exclude, columns, coerce_float, nrows)\u001b[0m\n\u001b[1;32m    979\u001b[0m         \u001b[0;32melse\u001b[0m\u001b[0;34m:\u001b[0m\u001b[0;34m\u001b[0m\u001b[0m\n\u001b[1;32m    980\u001b[0m             arrays, arr_columns = _to_arrays(data, columns,\n\u001b[0;32m--> 981\u001b[0;31m                                              coerce_float=coerce_float)\n\u001b[0m\u001b[1;32m    982\u001b[0m \u001b[0;34m\u001b[0m\u001b[0m\n\u001b[1;32m    983\u001b[0m             \u001b[0marr_columns\u001b[0m \u001b[0;34m=\u001b[0m \u001b[0m_ensure_index\u001b[0m\u001b[0;34m(\u001b[0m\u001b[0marr_columns\u001b[0m\u001b[0;34m)\u001b[0m\u001b[0;34m\u001b[0m\u001b[0m\n",
      "\u001b[0;32m/Users/chadd/anaconda2/lib/python2.7/site-packages/pandas/core/frame.pyc\u001b[0m in \u001b[0;36m_to_arrays\u001b[0;34m(data, columns, coerce_float, dtype)\u001b[0m\n\u001b[1;32m   5370\u001b[0m     \u001b[0;32melse\u001b[0m\u001b[0;34m:\u001b[0m\u001b[0;34m\u001b[0m\u001b[0m\n\u001b[1;32m   5371\u001b[0m         \u001b[0;31m# last ditch effort\u001b[0m\u001b[0;34m\u001b[0m\u001b[0;34m\u001b[0m\u001b[0m\n\u001b[0;32m-> 5372\u001b[0;31m         \u001b[0mdata\u001b[0m \u001b[0;34m=\u001b[0m \u001b[0mlmap\u001b[0m\u001b[0;34m(\u001b[0m\u001b[0mtuple\u001b[0m\u001b[0;34m,\u001b[0m \u001b[0mdata\u001b[0m\u001b[0;34m)\u001b[0m\u001b[0;34m\u001b[0m\u001b[0m\n\u001b[0m\u001b[1;32m   5373\u001b[0m         return _list_to_arrays(data, columns, coerce_float=coerce_float,\n\u001b[1;32m   5374\u001b[0m                                dtype=dtype)\n",
      "\u001b[0;31mTypeError\u001b[0m: 'int' object is not iterable"
     ]
    }
   ],
   "source": [
    "df= pd..from_records(all_data[0], labels);"
   ]
  },
  {
   "cell_type": "code",
   "execution_count": null,
   "metadata": {
    "collapsed": true
   },
   "outputs": [],
   "source": []
  },
  {
   "cell_type": "code",
   "execution_count": null,
   "metadata": {
    "collapsed": true
   },
   "outputs": [],
   "source": []
  },
  {
   "cell_type": "code",
   "execution_count": null,
   "metadata": {
    "collapsed": true
   },
   "outputs": [],
   "source": []
  },
  {
   "cell_type": "code",
   "execution_count": null,
   "metadata": {
    "collapsed": true
   },
   "outputs": [],
   "source": []
  },
  {
   "cell_type": "code",
   "execution_count": null,
   "metadata": {
    "collapsed": true
   },
   "outputs": [],
   "source": []
  },
  {
   "cell_type": "code",
   "execution_count": null,
   "metadata": {
    "collapsed": true
   },
   "outputs": [],
   "source": []
  },
  {
   "cell_type": "code",
   "execution_count": null,
   "metadata": {
    "collapsed": true
   },
   "outputs": [],
   "source": []
  },
  {
   "cell_type": "code",
   "execution_count": null,
   "metadata": {
    "collapsed": true
   },
   "outputs": [],
   "source": [
    "testing123=driver.find_elements_by_class_name('rating')"
   ]
  },
  {
   "cell_type": "code",
   "execution_count": 13,
   "metadata": {
    "collapsed": false
   },
   "outputs": [
    {
     "name": "stdout",
     "output_type": "stream",
     "text": [
      "320 Reviews\n",
      "4.5\n",
      "320 reviews\n",
      "Traveler rating\n",
      "Excellent179\n",
      "Very good84\n",
      "Average38\n",
      "Poor14\n",
      "Terrible5\n",
      "Reviewed 3 weeks ago\n",
      "Reviewed 3 weeks ago\n",
      "Reviewed November 18, 2017\n",
      "via mobile\n",
      "Reviewed November 11, 2017\n",
      "via mobile\n",
      "Reviewed November 8, 2017\n",
      "via mobile\n",
      "Reviewed November 3, 2017\n",
      "Reviewed October 29, 2017\n",
      "via mobile\n",
      "Reviewed October 27, 2017\n",
      "Reviewed October 21, 2017\n",
      "via mobile\n",
      "Reviewed October 15, 2017\n",
      "\n",
      "\n",
      "\n",
      "\n",
      "\n",
      "\n",
      "\n",
      "\n",
      "\n",
      "\n",
      "\n"
     ]
    }
   ],
   "source": [
    "for x in testing123:\n",
    "    print x.text\n",
    "    "
   ]
  },
  {
   "cell_type": "code",
   "execution_count": 89,
   "metadata": {
    "collapsed": true
   },
   "outputs": [],
   "source": [
    "test12345= driver.find_elements_by_xpath(\"//div[contains(@class,'ui_bubble_rating')]\")"
   ]
  },
  {
   "cell_type": "code",
   "execution_count": 90,
   "metadata": {
    "collapsed": false
   },
   "outputs": [
    {
     "data": {
      "text/plain": [
       "[<selenium.webdriver.remote.webelement.WebElement (session=\"7caadf06b3627f6e7cde0d73ad589926\", element=\"0.6144377076088712-155\")>,\n",
       " <selenium.webdriver.remote.webelement.WebElement (session=\"7caadf06b3627f6e7cde0d73ad589926\", element=\"0.6144377076088712-156\")>,\n",
       " <selenium.webdriver.remote.webelement.WebElement (session=\"7caadf06b3627f6e7cde0d73ad589926\", element=\"0.6144377076088712-157\")>,\n",
       " <selenium.webdriver.remote.webelement.WebElement (session=\"7caadf06b3627f6e7cde0d73ad589926\", element=\"0.6144377076088712-158\")>,\n",
       " <selenium.webdriver.remote.webelement.WebElement (session=\"7caadf06b3627f6e7cde0d73ad589926\", element=\"0.6144377076088712-159\")>,\n",
       " <selenium.webdriver.remote.webelement.WebElement (session=\"7caadf06b3627f6e7cde0d73ad589926\", element=\"0.6144377076088712-160\")>]"
      ]
     },
     "execution_count": 90,
     "metadata": {},
     "output_type": "execute_result"
    }
   ],
   "source": [
    "test12345"
   ]
  },
  {
   "cell_type": "code",
   "execution_count": 186,
   "metadata": {
    "collapsed": false,
    "scrolled": true
   },
   "outputs": [
    {
     "name": "stdout",
     "output_type": "stream",
     "text": [
      "ui_bubble_rating bubble_50\n",
      "ui_bubble_rating bubble_50\n",
      "ui_bubble_rating bubble_50\n",
      "ui_bubble_rating bubble_40\n",
      "ui_bubble_rating bubble_50\n",
      "ui_bubble_rating bubble_50\n"
     ]
    }
   ],
   "source": [
    "for x in test12345:\n",
    "    print x.get_attribute(\"class\")"
   ]
  },
  {
   "cell_type": "code",
   "execution_count": 291,
   "metadata": {
    "collapsed": false
   },
   "outputs": [
    {
     "data": {
      "text/plain": [
       "[5, 5, 2, 5, 5, 5, 5, 5, 5, 5]"
      ]
     },
     "execution_count": 291,
     "metadata": {},
     "output_type": "execute_result"
    }
   ],
   "source": [
    "baseReviews=driver.find_elements_by_css_selector('div.rating.reviewItemInline')\n",
    "allRatings = [int(t.find_element_by_xpath(\".//span[contains(@class,'ui_bubble_rating')]\").get_attribute(\"class\").split(\" \")[1].split(\"_\")[1])/10 for t in baseReviews]\n",
    "allRatings"
   ]
  },
  {
   "cell_type": "code",
   "execution_count": 277,
   "metadata": {
    "collapsed": false
   },
   "outputs": [
    {
     "data": {
      "text/plain": [
       "[u'ui_bubble_rating bubble_50',\n",
       " u'ui_bubble_rating bubble_50',\n",
       " u'ui_bubble_rating bubble_20',\n",
       " u'ui_bubble_rating bubble_50',\n",
       " u'ui_bubble_rating bubble_50',\n",
       " u'ui_bubble_rating bubble_50',\n",
       " u'ui_bubble_rating bubble_50',\n",
       " u'ui_bubble_rating bubble_50',\n",
       " u'ui_bubble_rating bubble_50',\n",
       " u'ui_bubble_rating bubble_50']"
      ]
     },
     "execution_count": 277,
     "metadata": {},
     "output_type": "execute_result"
    }
   ],
   "source": [
    "testing12=driver.find_elements_by_css_selector('div.rating.reviewItemInline')\n",
    "allRatings = [t.find_element_by_xpath(\".//span[contains(@class,'ui_bubble_rating')]\") for t in testing12]\n",
    "[t.get_attribute(\"class\") for t in allRatings]"
   ]
  },
  {
   "cell_type": "code",
   "execution_count": 132,
   "metadata": {
    "collapsed": false
   },
   "outputs": [
    {
     "data": {
      "text/plain": [
       "[<selenium.webdriver.remote.webelement.WebElement (session=\"7caadf06b3627f6e7cde0d73ad589926\", element=\"0.6144377076088712-111\")>,\n",
       " <selenium.webdriver.remote.webelement.WebElement (session=\"7caadf06b3627f6e7cde0d73ad589926\", element=\"0.6144377076088712-112\")>,\n",
       " <selenium.webdriver.remote.webelement.WebElement (session=\"7caadf06b3627f6e7cde0d73ad589926\", element=\"0.6144377076088712-113\")>,\n",
       " <selenium.webdriver.remote.webelement.WebElement (session=\"7caadf06b3627f6e7cde0d73ad589926\", element=\"0.6144377076088712-114\")>,\n",
       " <selenium.webdriver.remote.webelement.WebElement (session=\"7caadf06b3627f6e7cde0d73ad589926\", element=\"0.6144377076088712-115\")>,\n",
       " <selenium.webdriver.remote.webelement.WebElement (session=\"7caadf06b3627f6e7cde0d73ad589926\", element=\"0.6144377076088712-116\")>,\n",
       " <selenium.webdriver.remote.webelement.WebElement (session=\"7caadf06b3627f6e7cde0d73ad589926\", element=\"0.6144377076088712-117\")>,\n",
       " <selenium.webdriver.remote.webelement.WebElement (session=\"7caadf06b3627f6e7cde0d73ad589926\", element=\"0.6144377076088712-118\")>,\n",
       " <selenium.webdriver.remote.webelement.WebElement (session=\"7caadf06b3627f6e7cde0d73ad589926\", element=\"0.6144377076088712-119\")>,\n",
       " <selenium.webdriver.remote.webelement.WebElement (session=\"7caadf06b3627f6e7cde0d73ad589926\", element=\"0.6144377076088712-120\")>]"
      ]
     },
     "execution_count": 132,
     "metadata": {},
     "output_type": "execute_result"
    }
   ],
   "source": [
    "testing12"
   ]
  },
  {
   "cell_type": "code",
   "execution_count": 198,
   "metadata": {
    "collapsed": true
   },
   "outputs": [],
   "source": [
    "delete1 = testing12[0]"
   ]
  },
  {
   "cell_type": "code",
   "execution_count": 230,
   "metadata": {
    "collapsed": false
   },
   "outputs": [
    {
     "data": {
      "text/plain": [
       "u''"
      ]
     },
     "execution_count": 230,
     "metadata": {},
     "output_type": "execute_result"
    }
   ],
   "source": [
    "delete1.find_element_by_xpath(\"//div[contains(@class,'ui_bubble_rating')]\").get_attribute(\"class\")"
   ]
  },
  {
   "cell_type": "code",
   "execution_count": 228,
   "metadata": {
    "collapsed": false
   },
   "outputs": [],
   "source": [
    "delete2 = testing12[2]"
   ]
  },
  {
   "cell_type": "code",
   "execution_count": 229,
   "metadata": {
    "collapsed": false
   },
   "outputs": [
    {
     "data": {
      "text/plain": [
       "<selenium.webdriver.remote.webelement.WebElement (session=\"7caadf06b3627f6e7cde0d73ad589926\", element=\"0.6144377076088712-113\")>"
      ]
     },
     "execution_count": 229,
     "metadata": {},
     "output_type": "execute_result"
    }
   ],
   "source": [
    "delete2"
   ]
  },
  {
   "cell_type": "code",
   "execution_count": 227,
   "metadata": {
    "collapsed": false
   },
   "outputs": [
    {
     "data": {
      "text/plain": [
       "u'ui_bubble_rating bubble_50'"
      ]
     },
     "execution_count": 227,
     "metadata": {},
     "output_type": "execute_result"
    }
   ],
   "source": [
    "delete2.find_element_by_xpath(\"//div[contains(@class,'ui_bubble_rating')]\").get_attribute(\"class\")"
   ]
  },
  {
   "cell_type": "code",
   "execution_count": null,
   "metadata": {
    "collapsed": true
   },
   "outputs": [],
   "source": []
  },
  {
   "cell_type": "code",
   "execution_count": null,
   "metadata": {
    "collapsed": true
   },
   "outputs": [],
   "source": []
  },
  {
   "cell_type": "code",
   "execution_count": null,
   "metadata": {
    "collapsed": true
   },
   "outputs": [],
   "source": []
  },
  {
   "cell_type": "code",
   "execution_count": 184,
   "metadata": {
    "collapsed": true
   },
   "outputs": [],
   "source": [
    "ratings = [t.find_element_by_xpath(\"//div[contains(@class,'ui_bubble_rating')]\") for t in testing12];"
   ]
  },
  {
   "cell_type": "code",
   "execution_count": 185,
   "metadata": {
    "collapsed": false
   },
   "outputs": [
    {
     "data": {
      "text/plain": [
       "[<selenium.webdriver.remote.webelement.WebElement (session=\"7caadf06b3627f6e7cde0d73ad589926\", element=\"0.6144377076088712-155\")>,\n",
       " <selenium.webdriver.remote.webelement.WebElement (session=\"7caadf06b3627f6e7cde0d73ad589926\", element=\"0.6144377076088712-155\")>,\n",
       " <selenium.webdriver.remote.webelement.WebElement (session=\"7caadf06b3627f6e7cde0d73ad589926\", element=\"0.6144377076088712-155\")>,\n",
       " <selenium.webdriver.remote.webelement.WebElement (session=\"7caadf06b3627f6e7cde0d73ad589926\", element=\"0.6144377076088712-155\")>,\n",
       " <selenium.webdriver.remote.webelement.WebElement (session=\"7caadf06b3627f6e7cde0d73ad589926\", element=\"0.6144377076088712-155\")>,\n",
       " <selenium.webdriver.remote.webelement.WebElement (session=\"7caadf06b3627f6e7cde0d73ad589926\", element=\"0.6144377076088712-155\")>,\n",
       " <selenium.webdriver.remote.webelement.WebElement (session=\"7caadf06b3627f6e7cde0d73ad589926\", element=\"0.6144377076088712-155\")>,\n",
       " <selenium.webdriver.remote.webelement.WebElement (session=\"7caadf06b3627f6e7cde0d73ad589926\", element=\"0.6144377076088712-155\")>,\n",
       " <selenium.webdriver.remote.webelement.WebElement (session=\"7caadf06b3627f6e7cde0d73ad589926\", element=\"0.6144377076088712-155\")>,\n",
       " <selenium.webdriver.remote.webelement.WebElement (session=\"7caadf06b3627f6e7cde0d73ad589926\", element=\"0.6144377076088712-155\")>]"
      ]
     },
     "execution_count": 185,
     "metadata": {},
     "output_type": "execute_result"
    }
   ],
   "source": [
    "ratings"
   ]
  },
  {
   "cell_type": "code",
   "execution_count": null,
   "metadata": {
    "collapsed": true
   },
   "outputs": [],
   "source": []
  },
  {
   "cell_type": "code",
   "execution_count": 161,
   "metadata": {
    "collapsed": true
   },
   "outputs": [],
   "source": [
    "ratings = [t.find_element_by_xpath(\"//div[contains(@class,'ui_bubble_rating')]\").get_attribute(\"class\").split(\" \")[1] for t in testing12];"
   ]
  },
  {
   "cell_type": "code",
   "execution_count": 162,
   "metadata": {
    "collapsed": false
   },
   "outputs": [
    {
     "data": {
      "text/plain": [
       "[u'bubble_50',\n",
       " u'bubble_50',\n",
       " u'bubble_50',\n",
       " u'bubble_50',\n",
       " u'bubble_50',\n",
       " u'bubble_50',\n",
       " u'bubble_50',\n",
       " u'bubble_50',\n",
       " u'bubble_50',\n",
       " u'bubble_50']"
      ]
     },
     "execution_count": 162,
     "metadata": {},
     "output_type": "execute_result"
    }
   ],
   "source": [
    "ratings"
   ]
  },
  {
   "cell_type": "code",
   "execution_count": 187,
   "metadata": {
    "collapsed": false
   },
   "outputs": [],
   "source": [
    "onlyOne = testing12[0]"
   ]
  },
  {
   "cell_type": "code",
   "execution_count": 188,
   "metadata": {
    "collapsed": false
   },
   "outputs": [
    {
     "data": {
      "text/plain": [
       "u'rating reviewItemInline'"
      ]
     },
     "execution_count": 188,
     "metadata": {},
     "output_type": "execute_result"
    }
   ],
   "source": [
    "onlyOne.get_attribute(\"class\")"
   ]
  },
  {
   "cell_type": "code",
   "execution_count": 252,
   "metadata": {
    "collapsed": false
   },
   "outputs": [],
   "source": [
    "z= onlyOne.find_element_by_xpath(\"//span[contains(@class,'ui_bubble_rating')]\")"
   ]
  },
  {
   "cell_type": "code",
   "execution_count": 253,
   "metadata": {
    "collapsed": false
   },
   "outputs": [
    {
     "data": {
      "text/plain": [
       "u'ui_bubble_rating bubble_45'"
      ]
     },
     "execution_count": 253,
     "metadata": {},
     "output_type": "execute_result"
    }
   ],
   "source": [
    "z.get_attribute(\"class\")"
   ]
  },
  {
   "cell_type": "code",
   "execution_count": 275,
   "metadata": {
    "collapsed": false
   },
   "outputs": [],
   "source": [
    "allRatings = [t.find_element_by_xpath(\".//span[contains(@class,'ui_bubble_rating')]\") for t in testing12]"
   ]
  },
  {
   "cell_type": "code",
   "execution_count": 276,
   "metadata": {
    "collapsed": false
   },
   "outputs": [
    {
     "data": {
      "text/plain": [
       "[u'ui_bubble_rating bubble_50',\n",
       " u'ui_bubble_rating bubble_50',\n",
       " u'ui_bubble_rating bubble_20',\n",
       " u'ui_bubble_rating bubble_50',\n",
       " u'ui_bubble_rating bubble_50',\n",
       " u'ui_bubble_rating bubble_50',\n",
       " u'ui_bubble_rating bubble_50',\n",
       " u'ui_bubble_rating bubble_50',\n",
       " u'ui_bubble_rating bubble_50',\n",
       " u'ui_bubble_rating bubble_50']"
      ]
     },
     "execution_count": 276,
     "metadata": {},
     "output_type": "execute_result"
    }
   ],
   "source": [
    "[t.get_attribute(\"class\") for t in allRatings]"
   ]
  },
  {
   "cell_type": "code",
   "execution_count": null,
   "metadata": {
    "collapsed": true
   },
   "outputs": [],
   "source": []
  },
  {
   "cell_type": "code",
   "execution_count": null,
   "metadata": {
    "collapsed": true
   },
   "outputs": [],
   "source": []
  },
  {
   "cell_type": "code",
   "execution_count": null,
   "metadata": {
    "collapsed": true
   },
   "outputs": [],
   "source": []
  },
  {
   "cell_type": "code",
   "execution_count": 181,
   "metadata": {
    "collapsed": true
   },
   "outputs": [],
   "source": [
    "theRating= z.get_attribute(\"class\");"
   ]
  },
  {
   "cell_type": "code",
   "execution_count": 182,
   "metadata": {
    "collapsed": false
   },
   "outputs": [],
   "source": [
    "second= theRating.split(\" \")[1]"
   ]
  },
  {
   "cell_type": "code",
   "execution_count": 183,
   "metadata": {
    "collapsed": false
   },
   "outputs": [
    {
     "data": {
      "text/plain": [
       "u'bubble_50'"
      ]
     },
     "execution_count": 183,
     "metadata": {},
     "output_type": "execute_result"
    }
   ],
   "source": [
    "second"
   ]
  },
  {
   "cell_type": "code",
   "execution_count": 123,
   "metadata": {
    "collapsed": false
   },
   "outputs": [
    {
     "ename": "TypeError",
     "evalue": "'WebElement' object is not iterable",
     "output_type": "error",
     "traceback": [
      "\u001b[0;31m---------------------------------------------------------------------------\u001b[0m",
      "\u001b[0;31mTypeError\u001b[0m                                 Traceback (most recent call last)",
      "\u001b[0;32m<ipython-input-123-eae9b6d3e2e6>\u001b[0m in \u001b[0;36m<module>\u001b[0;34m()\u001b[0m\n\u001b[0;32m----> 1\u001b[0;31m \u001b[0;32mfor\u001b[0m \u001b[0mitem\u001b[0m \u001b[0;32min\u001b[0m \u001b[0mz\u001b[0m\u001b[0;34m:\u001b[0m\u001b[0;34m\u001b[0m\u001b[0m\n\u001b[0m\u001b[1;32m      2\u001b[0m     \u001b[0;32mprint\u001b[0m \u001b[0mitem\u001b[0m\u001b[0;34m.\u001b[0m\u001b[0mget_attribute\u001b[0m\u001b[0;34m(\u001b[0m\u001b[0;34m\"class\"\u001b[0m\u001b[0;34m)\u001b[0m\u001b[0;34m\u001b[0m\u001b[0m\n",
      "\u001b[0;31mTypeError\u001b[0m: 'WebElement' object is not iterable"
     ]
    }
   ],
   "source": [
    "for item in z:\n",
    "    print item.get_attribute(\"class\")"
   ]
  },
  {
   "cell_type": "code",
   "execution_count": 92,
   "metadata": {
    "collapsed": false
   },
   "outputs": [
    {
     "name": "stdout",
     "output_type": "stream",
     "text": [
      "Reviewed 3 weeks ago\n",
      "Reviewed 3 weeks ago\n",
      "Reviewed November 18, 2017\n",
      "via mobile\n",
      "Reviewed November 11, 2017\n",
      "via mobile\n",
      "Reviewed November 8, 2017\n",
      "via mobile\n",
      "Reviewed November 3, 2017\n",
      "Reviewed October 29, 2017\n",
      "via mobile\n",
      "Reviewed October 27, 2017\n",
      "Reviewed October 21, 2017\n",
      "via mobile\n",
      "Reviewed October 15, 2017\n"
     ]
    }
   ],
   "source": [
    "for x in testing12:\n",
    "    print x.text"
   ]
  },
  {
   "cell_type": "code",
   "execution_count": 269,
   "metadata": {
    "collapsed": false
   },
   "outputs": [
    {
     "name": "stdout",
     "output_type": "stream",
     "text": [
      "Reviewed 3 weeks ago\n",
      "rating reviewItemInline\n",
      "ui_bubble_rating bubble_50\n",
      "Reviewed 3 weeks ago\n",
      "rating reviewItemInline\n",
      "ui_bubble_rating bubble_50\n",
      "Reviewed November 18, 2017\n",
      "via mobile\n",
      "rating reviewItemInline\n",
      "ui_bubble_rating bubble_20\n",
      "Reviewed November 11, 2017\n",
      "via mobile\n",
      "rating reviewItemInline\n",
      "ui_bubble_rating bubble_50\n",
      "Reviewed November 8, 2017\n",
      "via mobile\n",
      "rating reviewItemInline\n",
      "ui_bubble_rating bubble_50\n",
      "Reviewed November 3, 2017\n",
      "rating reviewItemInline\n",
      "ui_bubble_rating bubble_50\n",
      "Reviewed October 29, 2017\n",
      "via mobile\n",
      "rating reviewItemInline\n",
      "ui_bubble_rating bubble_50\n",
      "Reviewed October 27, 2017\n",
      "rating reviewItemInline\n",
      "ui_bubble_rating bubble_50\n",
      "Reviewed October 21, 2017\n",
      "via mobile\n",
      "rating reviewItemInline\n",
      "ui_bubble_rating bubble_50\n",
      "Reviewed October 15, 2017\n",
      "rating reviewItemInline\n",
      "ui_bubble_rating bubble_50\n",
      "Reviewed 3 weeks ago\n",
      "rating reviewItemInline\n",
      "ui_bubble_rating bubble_50\n",
      "Reviewed 3 weeks ago\n",
      "rating reviewItemInline\n",
      "ui_bubble_rating bubble_50\n",
      "Reviewed November 18, 2017\n",
      "via mobile\n",
      "rating reviewItemInline\n",
      "ui_bubble_rating bubble_20\n",
      "Reviewed November 11, 2017\n",
      "via mobile\n",
      "rating reviewItemInline\n",
      "ui_bubble_rating bubble_50\n",
      "Reviewed November 8, 2017\n",
      "via mobile\n",
      "rating reviewItemInline\n",
      "ui_bubble_rating bubble_50\n",
      "Reviewed November 3, 2017\n",
      "rating reviewItemInline\n",
      "ui_bubble_rating bubble_50\n",
      "Reviewed October 29, 2017\n",
      "via mobile\n",
      "rating reviewItemInline\n",
      "ui_bubble_rating bubble_50\n",
      "Reviewed October 27, 2017\n",
      "rating reviewItemInline\n",
      "ui_bubble_rating bubble_50\n",
      "Reviewed October 21, 2017\n",
      "via mobile\n",
      "rating reviewItemInline\n",
      "ui_bubble_rating bubble_50\n",
      "Reviewed October 15, 2017\n",
      "rating reviewItemInline\n",
      "ui_bubble_rating bubble_50\n",
      "Reviewed 3 weeks ago\n",
      "rating reviewItemInline\n",
      "ui_bubble_rating bubble_50\n",
      "Reviewed 3 weeks ago\n",
      "rating reviewItemInline\n",
      "ui_bubble_rating bubble_50\n",
      "Reviewed November 18, 2017\n",
      "via mobile\n",
      "rating reviewItemInline\n",
      "ui_bubble_rating bubble_20\n",
      "Reviewed November 11, 2017\n",
      "via mobile\n",
      "rating reviewItemInline\n",
      "ui_bubble_rating bubble_50\n",
      "Reviewed November 8, 2017\n",
      "via mobile\n",
      "rating reviewItemInline\n",
      "ui_bubble_rating bubble_50\n",
      "Reviewed November 3, 2017\n",
      "rating reviewItemInline\n",
      "ui_bubble_rating bubble_50\n",
      "Reviewed October 29, 2017\n",
      "via mobile\n",
      "rating reviewItemInline\n",
      "ui_bubble_rating bubble_50\n",
      "Reviewed October 27, 2017\n",
      "rating reviewItemInline\n",
      "ui_bubble_rating bubble_50\n",
      "Reviewed October 21, 2017\n",
      "via mobile\n",
      "rating reviewItemInline\n",
      "ui_bubble_rating bubble_50\n",
      "Reviewed October 15, 2017\n",
      "rating reviewItemInline\n",
      "ui_bubble_rating bubble_50\n",
      "Reviewed 3 weeks ago\n",
      "rating reviewItemInline\n",
      "ui_bubble_rating bubble_50\n",
      "Reviewed 3 weeks ago\n",
      "rating reviewItemInline\n",
      "ui_bubble_rating bubble_50\n",
      "Reviewed November 18, 2017\n",
      "via mobile\n",
      "rating reviewItemInline\n",
      "ui_bubble_rating bubble_20\n",
      "Reviewed November 11, 2017\n",
      "via mobile\n",
      "rating reviewItemInline\n",
      "ui_bubble_rating bubble_50\n",
      "Reviewed November 8, 2017\n",
      "via mobile\n",
      "rating reviewItemInline\n",
      "ui_bubble_rating bubble_50\n",
      "Reviewed November 3, 2017\n",
      "rating reviewItemInline\n",
      "ui_bubble_rating bubble_50\n",
      "Reviewed October 29, 2017\n",
      "via mobile\n",
      "rating reviewItemInline\n",
      "ui_bubble_rating bubble_50\n",
      "Reviewed October 27, 2017\n",
      "rating reviewItemInline\n",
      "ui_bubble_rating bubble_50\n",
      "Reviewed October 21, 2017\n",
      "via mobile\n",
      "rating reviewItemInline\n",
      "ui_bubble_rating bubble_50\n",
      "Reviewed October 15, 2017\n",
      "rating reviewItemInline\n",
      "ui_bubble_rating bubble_50\n",
      "Reviewed 3 weeks ago\n",
      "rating reviewItemInline\n",
      "ui_bubble_rating bubble_50\n",
      "Reviewed 3 weeks ago\n",
      "rating reviewItemInline\n",
      "ui_bubble_rating bubble_50\n",
      "Reviewed November 18, 2017\n",
      "via mobile\n",
      "rating reviewItemInline\n",
      "ui_bubble_rating bubble_20\n",
      "Reviewed November 11, 2017\n",
      "via mobile\n",
      "rating reviewItemInline\n",
      "ui_bubble_rating bubble_50\n",
      "Reviewed November 8, 2017\n",
      "via mobile\n",
      "rating reviewItemInline\n",
      "ui_bubble_rating bubble_50\n",
      "Reviewed November 3, 2017\n",
      "rating reviewItemInline\n",
      "ui_bubble_rating bubble_50\n",
      "Reviewed October 29, 2017\n",
      "via mobile\n",
      "rating reviewItemInline\n",
      "ui_bubble_rating bubble_50\n",
      "Reviewed October 27, 2017\n",
      "rating reviewItemInline\n",
      "ui_bubble_rating bubble_50\n",
      "Reviewed October 21, 2017\n",
      "via mobile\n",
      "rating reviewItemInline\n",
      "ui_bubble_rating bubble_50\n",
      "Reviewed October 15, 2017\n",
      "rating reviewItemInline\n",
      "ui_bubble_rating bubble_50\n",
      "Reviewed 3 weeks ago\n",
      "rating reviewItemInline\n",
      "ui_bubble_rating bubble_50\n",
      "Reviewed 3 weeks ago\n",
      "rating reviewItemInline\n",
      "ui_bubble_rating bubble_50\n",
      "Reviewed November 18, 2017\n",
      "via mobile\n",
      "rating reviewItemInline\n",
      "ui_bubble_rating bubble_20\n",
      "Reviewed November 11, 2017\n",
      "via mobile\n",
      "rating reviewItemInline\n",
      "ui_bubble_rating bubble_50\n",
      "Reviewed November 8, 2017\n",
      "via mobile\n",
      "rating reviewItemInline\n",
      "ui_bubble_rating bubble_50\n",
      "Reviewed November 3, 2017\n",
      "rating reviewItemInline\n",
      "ui_bubble_rating bubble_50\n",
      "Reviewed October 29, 2017\n",
      "via mobile\n",
      "rating reviewItemInline\n",
      "ui_bubble_rating bubble_50\n",
      "Reviewed October 27, 2017\n",
      "rating reviewItemInline\n",
      "ui_bubble_rating bubble_50\n",
      "Reviewed October 21, 2017\n",
      "via mobile\n",
      "rating reviewItemInline\n",
      "ui_bubble_rating bubble_50\n",
      "Reviewed October 15, 2017\n",
      "rating reviewItemInline\n",
      "ui_bubble_rating bubble_50\n",
      "Reviewed 3 weeks ago\n",
      "rating reviewItemInline\n",
      "ui_bubble_rating bubble_50\n",
      "Reviewed 3 weeks ago\n",
      "rating reviewItemInline\n",
      "ui_bubble_rating bubble_50\n",
      "Reviewed November 18, 2017\n",
      "via mobile\n",
      "rating reviewItemInline\n",
      "ui_bubble_rating bubble_20\n",
      "Reviewed November 11, 2017\n",
      "via mobile\n",
      "rating reviewItemInline\n",
      "ui_bubble_rating bubble_50\n",
      "Reviewed November 8, 2017\n",
      "via mobile\n",
      "rating reviewItemInline\n",
      "ui_bubble_rating bubble_50\n",
      "Reviewed November 3, 2017\n",
      "rating reviewItemInline\n",
      "ui_bubble_rating bubble_50\n",
      "Reviewed October 29, 2017\n",
      "via mobile\n",
      "rating reviewItemInline\n",
      "ui_bubble_rating bubble_50\n",
      "Reviewed October 27, 2017\n",
      "rating reviewItemInline\n",
      "ui_bubble_rating bubble_50\n",
      "Reviewed October 21, 2017\n",
      "via mobile\n",
      "rating reviewItemInline\n",
      "ui_bubble_rating bubble_50\n",
      "Reviewed October 15, 2017\n",
      "rating reviewItemInline\n",
      "ui_bubble_rating bubble_50\n",
      "Reviewed 3 weeks ago\n",
      "rating reviewItemInline\n",
      "ui_bubble_rating bubble_50\n",
      "Reviewed 3 weeks ago\n",
      "rating reviewItemInline\n",
      "ui_bubble_rating bubble_50\n",
      "Reviewed November 18, 2017\n",
      "via mobile\n",
      "rating reviewItemInline\n",
      "ui_bubble_rating bubble_20\n",
      "Reviewed November 11, 2017\n",
      "via mobile\n",
      "rating reviewItemInline\n",
      "ui_bubble_rating bubble_50\n",
      "Reviewed November 8, 2017\n",
      "via mobile\n",
      "rating reviewItemInline\n",
      "ui_bubble_rating bubble_50\n",
      "Reviewed November 3, 2017\n",
      "rating reviewItemInline\n",
      "ui_bubble_rating bubble_50\n",
      "Reviewed October 29, 2017\n",
      "via mobile\n",
      "rating reviewItemInline\n",
      "ui_bubble_rating bubble_50\n",
      "Reviewed October 27, 2017\n",
      "rating reviewItemInline\n",
      "ui_bubble_rating bubble_50\n",
      "Reviewed October 21, 2017\n",
      "via mobile\n",
      "rating reviewItemInline\n",
      "ui_bubble_rating bubble_50\n",
      "Reviewed October 15, 2017\n",
      "rating reviewItemInline\n",
      "ui_bubble_rating bubble_50\n",
      "Reviewed 3 weeks ago\n",
      "rating reviewItemInline\n",
      "ui_bubble_rating bubble_50\n",
      "Reviewed 3 weeks ago\n",
      "rating reviewItemInline\n",
      "ui_bubble_rating bubble_50\n",
      "Reviewed November 18, 2017\n",
      "via mobile\n",
      "rating reviewItemInline\n",
      "ui_bubble_rating bubble_20\n",
      "Reviewed November 11, 2017\n",
      "via mobile\n",
      "rating reviewItemInline\n",
      "ui_bubble_rating bubble_50\n",
      "Reviewed November 8, 2017\n",
      "via mobile\n",
      "rating reviewItemInline\n",
      "ui_bubble_rating bubble_50\n",
      "Reviewed November 3, 2017\n",
      "rating reviewItemInline\n",
      "ui_bubble_rating bubble_50\n",
      "Reviewed October 29, 2017\n",
      "via mobile\n",
      "rating reviewItemInline\n",
      "ui_bubble_rating bubble_50\n",
      "Reviewed October 27, 2017\n",
      "rating reviewItemInline\n",
      "ui_bubble_rating bubble_50\n",
      "Reviewed October 21, 2017\n",
      "via mobile\n",
      "rating reviewItemInline\n",
      "ui_bubble_rating bubble_50\n",
      "Reviewed October 15, 2017\n",
      "rating reviewItemInline\n",
      "ui_bubble_rating bubble_50\n",
      "Reviewed 3 weeks ago\n",
      "rating reviewItemInline\n",
      "ui_bubble_rating bubble_50\n",
      "Reviewed 3 weeks ago\n",
      "rating reviewItemInline\n",
      "ui_bubble_rating bubble_50\n",
      "Reviewed November 18, 2017\n",
      "via mobile\n",
      "rating reviewItemInline\n",
      "ui_bubble_rating bubble_20\n",
      "Reviewed November 11, 2017\n",
      "via mobile\n",
      "rating reviewItemInline\n",
      "ui_bubble_rating bubble_50\n",
      "Reviewed November 8, 2017\n",
      "via mobile\n",
      "rating reviewItemInline\n",
      "ui_bubble_rating bubble_50\n",
      "Reviewed November 3, 2017\n",
      "rating reviewItemInline\n",
      "ui_bubble_rating bubble_50\n",
      "Reviewed October 29, 2017\n",
      "via mobile\n",
      "rating reviewItemInline\n",
      "ui_bubble_rating bubble_50\n",
      "Reviewed October 27, 2017\n",
      "rating reviewItemInline\n",
      "ui_bubble_rating bubble_50\n",
      "Reviewed October 21, 2017\n",
      "via mobile\n",
      "rating reviewItemInline\n",
      "ui_bubble_rating bubble_50\n",
      "Reviewed October 15, 2017\n",
      "rating reviewItemInline\n",
      "ui_bubble_rating bubble_50\n"
     ]
    }
   ],
   "source": [
    "for x in testing12:\n",
    "    z= x.find_elements_by_xpath(\"//div[contains(@class,'reviewItemInline')]\")\n",
    "    for item in z:\n",
    "        print item.text\n",
    "        print item.get_attribute(\"class\")\n",
    "        print item.find_element_by_xpath(\".//span[contains(@class,'ui_bubble_rating')]\").get_attribute(\"class\")"
   ]
  },
  {
   "cell_type": "code",
   "execution_count": 65,
   "metadata": {
    "collapsed": false
   },
   "outputs": [
    {
     "ename": "AttributeError",
     "evalue": "'list' object has no attribute 'find_elements_by_css_selector'",
     "output_type": "error",
     "traceback": [
      "\u001b[0;31m---------------------------------------------------------------------------\u001b[0m",
      "\u001b[0;31mAttributeError\u001b[0m                            Traceback (most recent call last)",
      "\u001b[0;32m<ipython-input-65-d37e66af4e78>\u001b[0m in \u001b[0;36m<module>\u001b[0;34m()\u001b[0m\n\u001b[0;32m----> 1\u001b[0;31m \u001b[0my\u001b[0m\u001b[0;34m=\u001b[0m \u001b[0mtesting12\u001b[0m\u001b[0;34m.\u001b[0m\u001b[0mfind_elements_by_css_selector\u001b[0m\u001b[0;34m(\u001b[0m\u001b[0;34m\"*\"\u001b[0m\u001b[0;34m)\u001b[0m\u001b[0;34m\u001b[0m\u001b[0m\n\u001b[0m",
      "\u001b[0;31mAttributeError\u001b[0m: 'list' object has no attribute 'find_elements_by_css_selector'"
     ]
    }
   ],
   "source": [
    "y= testing12.find_elements_by_css_selector(\"*\")"
   ]
  },
  {
   "cell_type": "code",
   "execution_count": null,
   "metadata": {
    "collapsed": true
   },
   "outputs": [],
   "source": []
  },
  {
   "cell_type": "code",
   "execution_count": null,
   "metadata": {
    "collapsed": true
   },
   "outputs": [],
   "source": [
    "login_form = driver.find_element_by_xpath(\"//form[@id='loginForm']\")\n"
   ]
  },
  {
   "cell_type": "code",
   "execution_count": 76,
   "metadata": {
    "collapsed": false
   },
   "outputs": [
    {
     "data": {
      "text/plain": [
       "u'This was our 2nd set of visits to The Steak House; we were here the last time we visited Wellsboro for one of their festival weekends. Great Food and sitting at the bar--only a few seats though--is a nice experience. Clientele/staff is friendly; Chris, the hostess, and Geoff, the bartender contribute to the friendly atmosphere...both owners, I believe. Local color at the bar. If you like bourbon, ask Geoff to make you his \"smoker\". Filet and prime rib were nicely prepared. Lunch during the Dicken\\'s Festival was from a limited menu, but also very good. We will return every time we are in Wellsboro.'"
      ]
     },
     "execution_count": 76,
     "metadata": {},
     "output_type": "execute_result"
    }
   ],
   "source": [
    "all_reviews[0]a"
   ]
  },
  {
   "cell_type": "code",
   "execution_count": 77,
   "metadata": {
    "collapsed": false
   },
   "outputs": [
    {
     "data": {
      "text/plain": [
       "u'Went here twice on the same weekend'"
      ]
     },
     "execution_count": 77,
     "metadata": {},
     "output_type": "execute_result"
    }
   ],
   "source": [
    "all_headlines[0]"
   ]
  },
  {
   "cell_type": "code",
   "execution_count": 80,
   "metadata": {
    "collapsed": false
   },
   "outputs": [
    {
     "data": {
      "text/plain": [
       "[]"
      ]
     },
     "execution_count": 80,
     "metadata": {},
     "output_type": "execute_result"
    }
   ],
   "source": [
    "all_ratingDates"
   ]
  },
  {
   "cell_type": "code",
   "execution_count": 59,
   "metadata": {
    "collapsed": true
   },
   "outputs": [],
   "source": [
    "from nltk.corpus import stopwords"
   ]
  },
  {
   "cell_type": "markdown",
   "metadata": {
    "collapsed": true
   },
   "source": [
    "\n",
    "\n",
    "\n",
    "\n",
    "\n",
    "\n",
    "\n",
    "\n",
    "\n",
    "\n"
   ]
  },
  {
   "cell_type": "code",
   "execution_count": 248,
   "metadata": {
    "collapsed": true
   },
   "outputs": [],
   "source": [
    "ratingsFirst = driver.find_elements_by_css_selector('div.rating.reviewItemInline')"
   ]
  },
  {
   "cell_type": "code",
   "execution_count": 249,
   "metadata": {
    "collapsed": false
   },
   "outputs": [
    {
     "data": {
      "text/plain": [
       "u'Reviewed November 18, 2017\\nvia mobile'"
      ]
     },
     "execution_count": 249,
     "metadata": {},
     "output_type": "execute_result"
    }
   ],
   "source": [
    "ratingsFirst[2].text"
   ]
  },
  {
   "cell_type": "code",
   "execution_count": 243,
   "metadata": {
    "collapsed": false
   },
   "outputs": [
    {
     "data": {
      "text/plain": [
       "u'rating reviewItemInline'"
      ]
     },
     "execution_count": 243,
     "metadata": {},
     "output_type": "execute_result"
    }
   ],
   "source": [
    "ratingsFirst[2].get_attribute(\"class\")"
   ]
  },
  {
   "cell_type": "code",
   "execution_count": 270,
   "metadata": {
    "collapsed": false
   },
   "outputs": [],
   "source": [
    "test0=ratingsFirst[2].find_element_by_xpath(\".//span[contains(@class,'ui_bubble_rating')]\")"
   ]
  },
  {
   "cell_type": "code",
   "execution_count": 271,
   "metadata": {
    "collapsed": false
   },
   "outputs": [
    {
     "data": {
      "text/plain": [
       "u'ui_bubble_rating bubble_20'"
      ]
     },
     "execution_count": 271,
     "metadata": {},
     "output_type": "execute_result"
    }
   ],
   "source": [
    "test0.get_attribute(\"class\")"
   ]
  },
  {
   "cell_type": "code",
   "execution_count": null,
   "metadata": {
    "collapsed": true
   },
   "outputs": [],
   "source": []
  }
 ],
 "metadata": {
  "kernelspec": {
   "display_name": "Python [conda root]",
   "language": "python",
   "name": "conda-root-py"
  },
  "language_info": {
   "codemirror_mode": {
    "name": "ipython",
    "version": 2
   },
   "file_extension": ".py",
   "mimetype": "text/x-python",
   "name": "python",
   "nbconvert_exporter": "python",
   "pygments_lexer": "ipython2",
   "version": "2.7.12"
  }
 },
 "nbformat": 4,
 "nbformat_minor": 1
}
